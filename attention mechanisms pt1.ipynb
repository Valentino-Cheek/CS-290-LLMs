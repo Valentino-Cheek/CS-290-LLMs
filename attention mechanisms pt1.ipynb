{
  "cells": [
    {
      "cell_type": "code",
      "execution_count": 328,
      "id": "54bb061c",
      "metadata": {
        "id": "54bb061c"
      },
      "outputs": [],
      "source": [
        "import torch\n",
        "import tiktoken"
      ]
    },
    {
      "cell_type": "code",
      "execution_count": 329,
      "id": "0924e3d8",
      "metadata": {
        "id": "0924e3d8"
      },
      "outputs": [],
      "source": [
        "raw_text = \"This is my dog Raylan\""
      ]
    },
    {
      "cell_type": "code",
      "execution_count": 330,
      "id": "1060fc47",
      "metadata": {
        "id": "1060fc47"
      },
      "outputs": [],
      "source": [
        "tokenizer = tiktoken.get_encoding(\"gpt2\")"
      ]
    },
    {
      "cell_type": "code",
      "execution_count": 331,
      "id": "d0139c18",
      "metadata": {
        "id": "d0139c18",
        "outputId": "f9ac83de-7b59-4b3e-9b82-057ce8418194",
        "colab": {
          "base_uri": "https://localhost:8080/"
        }
      },
      "outputs": [
        {
          "output_type": "stream",
          "name": "stdout",
          "text": [
            "[1212, 318, 616, 3290, 7760, 9620]\n"
          ]
        }
      ],
      "source": [
        "enc_text = tokenizer.encode( raw_text )\n",
        "print(enc_text)"
      ]
    },
    {
      "cell_type": "code",
      "execution_count": 332,
      "id": "d5cc54a8",
      "metadata": {
        "id": "d5cc54a8",
        "outputId": "4a96eec7-887b-43dd-8b51-4796ff024885",
        "colab": {
          "base_uri": "https://localhost:8080/"
        }
      },
      "outputs": [
        {
          "output_type": "stream",
          "name": "stdout",
          "text": [
            "Parameter containing:\n",
            "tensor([[-1.0906, -0.8287, -1.9239, -2.2434, -0.5622,  0.5270,  0.8148,  1.0701],\n",
            "        [ 0.3235, -0.6881, -0.9939,  0.0727, -0.9362,  0.3649, -0.9449,  0.3256],\n",
            "        [-0.8313, -0.5895,  0.5404, -0.2123,  0.6798,  0.8398,  0.3375, -1.0469],\n",
            "        [ 1.5933, -1.0042, -1.9855, -0.1813,  1.5931, -0.5966, -0.5984,  0.5162],\n",
            "        [ 0.4964, -0.2128, -1.0523,  1.2179,  1.3719, -0.0365,  0.0908,  0.0134]],\n",
            "       requires_grad=True)\n"
          ]
        }
      ],
      "source": [
        "vocab_size = 5\n",
        "output_dim = 8\n",
        "inputs = torch.nn.Embedding( vocab_size, output_dim )\n",
        "print( inputs.weight )\n"
      ]
    },
    {
      "cell_type": "code",
      "execution_count": 333,
      "id": "afc6b11b",
      "metadata": {
        "id": "afc6b11b",
        "outputId": "9b5e1913-51ae-455f-be57-b457c2d5f09c",
        "colab": {
          "base_uri": "https://localhost:8080/"
        }
      },
      "outputs": [
        {
          "output_type": "stream",
          "name": "stdout",
          "text": [
            "tensor([[-1.0906, -0.8287, -1.9239, -2.2434, -0.5622,  0.5270,  0.8148,  1.0701],\n",
            "        [ 0.3235, -0.6881, -0.9939,  0.0727, -0.9362,  0.3649, -0.9449,  0.3256],\n",
            "        [-0.8313, -0.5895,  0.5404, -0.2123,  0.6798,  0.8398,  0.3375, -1.0469],\n",
            "        [ 1.5933, -1.0042, -1.9855, -0.1813,  1.5931, -0.5966, -0.5984,  0.5162],\n",
            "        [ 0.4964, -0.2128, -1.0523,  1.2179,  1.3719, -0.0365,  0.0908,  0.0134]])\n"
          ]
        }
      ],
      "source": [
        "inputs = inputs.weight.data\n",
        "print(inputs)\n"
      ]
    },
    {
      "cell_type": "code",
      "execution_count": 334,
      "id": "8a8da9f5",
      "metadata": {
        "id": "8a8da9f5",
        "outputId": "6ae5fd32-af6a-434f-a5a6-d99996c8c5a2",
        "colab": {
          "base_uri": "https://localhost:8080/"
        }
      },
      "outputs": [
        {
          "output_type": "execute_result",
          "data": {
            "text/plain": [
              "torch.Size([5, 8])"
            ]
          },
          "metadata": {},
          "execution_count": 334
        }
      ],
      "source": [
        "inputs.shape"
      ]
    },
    {
      "cell_type": "code",
      "execution_count": 335,
      "id": "0b24ae19",
      "metadata": {
        "id": "0b24ae19",
        "outputId": "1312c256-3ca1-4211-fd17-6e84d90cc5ef",
        "colab": {
          "base_uri": "https://localhost:8080/"
        }
      },
      "outputs": [
        {
          "output_type": "stream",
          "name": "stdout",
          "text": [
            "[-1.0905534029006958, -0.8287144899368286, -1.9239084720611572, -2.2434046268463135, -0.5622209310531616, 0.5270102024078369, 0.8147833943367004, 1.0700957775115967]\n",
            "[0.3235299289226532, -0.6881058216094971, -0.9938681721687317, 0.07266741245985031, -0.9361704587936401, 0.36492493748664856, -0.9448953866958618, 0.3256247341632843]\n",
            "[-0.8312854170799255, -0.5895064473152161, 0.5404170155525208, -0.2123185694217682, 0.6798174977302551, 0.8398153781890869, 0.33749473094940186, -1.0468982458114624]\n",
            "[1.5933021306991577, -1.0041815042495728, -1.9854753017425537, -0.18129108846187592, 1.5930616855621338, -0.5966479778289795, -0.5983661413192749, 0.5161851644515991]\n",
            "[0.49640342593193054, -0.21282871067523956, -1.0523451566696167, 1.2178808450698853, 1.3718595504760742, -0.03649982437491417, 0.09077786654233932, 0.013367624022066593]\n"
          ]
        }
      ],
      "source": [
        "for row in inputs:\n",
        "    print(row.tolist())"
      ]
    },
    {
      "cell_type": "code",
      "execution_count": 336,
      "id": "c36cedf4",
      "metadata": {
        "id": "c36cedf4"
      },
      "outputs": [],
      "source": [
        "x = torch.Tensor([1.1,2.3])\n",
        "y = torch.Tensor([3.4,-2.1])"
      ]
    },
    {
      "cell_type": "code",
      "execution_count": 337,
      "id": "4aaa9ec5",
      "metadata": {
        "id": "4aaa9ec5",
        "outputId": "b883b579-8bc1-44c5-88b3-b340710ec14a",
        "colab": {
          "base_uri": "https://localhost:8080/"
        }
      },
      "outputs": [
        {
          "output_type": "execute_result",
          "data": {
            "text/plain": [
              "-1.0899999999999999"
            ]
          },
          "metadata": {},
          "execution_count": 337
        }
      ],
      "source": [
        "1.1*3.4 + 2.3*-2.1"
      ]
    },
    {
      "cell_type": "code",
      "execution_count": 338,
      "id": "fa485471",
      "metadata": {
        "id": "fa485471",
        "outputId": "7db5937d-161f-405d-9b2a-c2b19fd86d8b",
        "colab": {
          "base_uri": "https://localhost:8080/"
        }
      },
      "outputs": [
        {
          "output_type": "execute_result",
          "data": {
            "text/plain": [
              "tensor(-1.0900)"
            ]
          },
          "metadata": {},
          "execution_count": 338
        }
      ],
      "source": [
        "torch.dot(x,y)"
      ]
    },
    {
      "cell_type": "code",
      "execution_count": 339,
      "id": "422e2432",
      "metadata": {
        "id": "422e2432",
        "outputId": "bbbedf4a-654f-451f-da46-62b2f2e512b0",
        "colab": {
          "base_uri": "https://localhost:8080/"
        }
      },
      "outputs": [
        {
          "output_type": "stream",
          "name": "stdout",
          "text": [
            "tensor([-0.8313, -0.5895,  0.5404, -0.2123,  0.6798,  0.8398,  0.3375, -1.0469])\n"
          ]
        }
      ],
      "source": [
        "query = inputs[2]\n",
        "print(query)"
      ]
    },
    {
      "cell_type": "code",
      "execution_count": 340,
      "id": "3079418e",
      "metadata": {
        "id": "3079418e",
        "outputId": "df201496-8e16-4060-9feb-7b65822f901f",
        "colab": {
          "base_uri": "https://localhost:8080/"
        }
      },
      "outputs": [
        {
          "output_type": "stream",
          "name": "stdout",
          "text": [
            "tensor(0.0468)\n",
            "tensor(-1.4056)\n",
            "tensor(3.7530)\n",
            "tensor(-1.9274)\n",
            "tensor(-0.1959)\n"
          ]
        }
      ],
      "source": [
        "for i in range( len( inputs )):\n",
        "    print( torch.dot(query, inputs[i]))"
      ]
    },
    {
      "cell_type": "code",
      "execution_count": 341,
      "id": "5b55ee14",
      "metadata": {
        "id": "5b55ee14",
        "outputId": "f4c68d81-38c1-48ab-80b0-b1365bb9c116",
        "colab": {
          "base_uri": "https://localhost:8080/"
        }
      },
      "outputs": [
        {
          "output_type": "stream",
          "name": "stdout",
          "text": [
            "tensor([ 0.0468, -1.4056,  3.7530, -1.9274, -0.1959])\n"
          ]
        }
      ],
      "source": [
        "attention_scores_2 = torch.zeros(len(inputs))\n",
        "for i in range( len( inputs )):\n",
        "    attention_scores_2[i] = torch.dot(query, inputs[i])\n",
        "print(attention_scores_2)"
      ]
    },
    {
      "cell_type": "code",
      "execution_count": 342,
      "id": "4f1c49a0",
      "metadata": {
        "id": "4f1c49a0"
      },
      "outputs": [],
      "source": [
        "# #normalize the attention scores using the softmax function\n",
        "# def softmax(x):\n",
        "#     torch.exp(x) / torch.exp(x).sum()"
      ]
    },
    {
      "cell_type": "code",
      "execution_count": 343,
      "id": "b1760798",
      "metadata": {
        "id": "b1760798",
        "outputId": "909875d8-830c-4a12-a4b8-0cf6707220cc",
        "colab": {
          "base_uri": "https://localhost:8080/"
        }
      },
      "outputs": [
        {
          "output_type": "stream",
          "name": "stdout",
          "text": [
            "tensor([0.0233, 0.0055, 0.9497, 0.0032, 0.0183])\n",
            "tensor(1.)\n"
          ]
        }
      ],
      "source": [
        "attention_weights_2 = torch.softmax(attention_scores_2, dim = 0)\n",
        "print(attention_weights_2)\n",
        "print( attention_weights_2.sum() )"
      ]
    },
    {
      "cell_type": "code",
      "execution_count": 345,
      "id": "0a382a33",
      "metadata": {
        "id": "0a382a33",
        "outputId": "eb81b71a-8f26-44c7-e428-9fe055a04a0e",
        "colab": {
          "base_uri": "https://localhost:8080/"
        }
      },
      "outputs": [
        {
          "output_type": "stream",
          "name": "stdout",
          "text": [
            "tensor([-0.7989, -0.5901,  0.4372, -0.2319,  0.6576,  0.8092,  0.3341, -0.9655])\n"
          ]
        }
      ],
      "source": [
        "context_vector_2 = torch.zeros( query.shape )\n",
        "for i in range(len(attention_weights_2)):\n",
        "    context_vector_2 += attention_weights_2[i]*inputs[i]\n",
        "print(context_vector_2)"
      ]
    },
    {
      "cell_type": "code",
      "execution_count": 348,
      "id": "69dcf1fd",
      "metadata": {
        "id": "69dcf1fd",
        "outputId": "92c66573-a826-466d-b236-7e818bade46b",
        "colab": {
          "base_uri": "https://localhost:8080/"
        }
      },
      "outputs": [
        {
          "output_type": "execute_result",
          "data": {
            "text/plain": [
              "tensor([[13.0132,  2.2637,  0.0468,  2.1759, -1.7748],\n",
              "        [ 2.2637,  3.5797, -1.4056,  2.1910,  0.0624],\n",
              "        [ 0.0468, -1.4056,  3.7530, -1.9274, -0.1959],\n",
              "        [ 2.1759,  2.1910, -1.9274, 11.0403,  5.0331],\n",
              "        [-1.7748,  0.0624, -0.1959,  5.0331,  4.7741]])"
            ]
          },
          "metadata": {},
          "execution_count": 348
        }
      ],
      "source": [
        "# get all of the attention scores by matrix multiplication\n",
        "attention_scores = inputs @ inputs.T\n",
        "attention_scores"
      ]
    },
    {
      "cell_type": "code",
      "source": [
        "attention_weights = torch.softmax( attention_scores, dim = -1)\n",
        "attention_weights"
      ],
      "metadata": {
        "id": "d3O6ALHigaUl",
        "outputId": "bd46c2ef-55da-493d-850c-eacebd7edf08",
        "colab": {
          "base_uri": "https://localhost:8080/"
        }
      },
      "id": "d3O6ALHigaUl",
      "execution_count": 350,
      "outputs": [
        {
          "output_type": "execute_result",
          "data": {
            "text/plain": [
              "tensor([[9.9996e-01, 2.1456e-05, 2.3375e-06, 1.9653e-05, 3.7813e-07],\n",
              "        [1.7259e-01, 6.4344e-01, 4.3999e-03, 1.6047e-01, 1.9098e-02],\n",
              "        [2.3333e-02, 5.4603e-03, 9.4966e-01, 3.2402e-03, 1.8306e-02],\n",
              "        [1.4095e-04, 1.4308e-04, 2.3281e-06, 9.9726e-01, 2.4542e-03],\n",
              "        [6.1897e-04, 3.8865e-03, 3.0019e-03, 5.6014e-01, 4.3235e-01]])"
            ]
          },
          "metadata": {},
          "execution_count": 350
        }
      ]
    },
    {
      "cell_type": "code",
      "source": [
        "attention_weights.sum(axis = -1)"
      ],
      "metadata": {
        "id": "AFihgOP3g6gN",
        "outputId": "d9ed4ea9-ae6f-4c3c-e2bc-27b600faf55b",
        "colab": {
          "base_uri": "https://localhost:8080/"
        }
      },
      "id": "AFihgOP3g6gN",
      "execution_count": 351,
      "outputs": [
        {
          "output_type": "execute_result",
          "data": {
            "text/plain": [
              "tensor([1.0000, 1.0000, 1.0000, 1.0000, 1.0000])"
            ]
          },
          "metadata": {},
          "execution_count": 351
        }
      ]
    },
    {
      "cell_type": "code",
      "source": [
        "context_vectors = attention_weights @ inputs\n",
        "context_vectors"
      ],
      "metadata": {
        "id": "SmmNuglDhLUz",
        "outputId": "9c9bc7cc-9c55-46da-d778-0b9b39389170",
        "colab": {
          "base_uri": "https://localhost:8080/"
        }
      },
      "id": "SmmNuglDhLUz",
      "execution_count": 353,
      "outputs": [
        {
          "output_type": "execute_result",
          "data": {
            "text/plain": [
              "tensor([[-1.0905, -0.8287, -1.9239, -2.2433, -0.5622,  0.5270,  0.8147,  1.0701],\n",
              "        [ 0.2815, -0.7536, -1.3079, -0.3472, -0.4146,  0.2330, -0.5602,  0.4727],\n",
              "        [-0.7989, -0.5901,  0.4372, -0.2319,  0.6576,  0.8092,  0.3341, -0.9655],\n",
              "        [ 1.5900, -1.0022, -1.9830, -0.1781,  1.5919, -0.5950, -0.5965,  0.5150],\n",
              "        [ 1.1052, -0.6595, -1.5706,  0.4233,  1.4835, -0.3457, -0.2981,  0.2937]])"
            ]
          },
          "metadata": {},
          "execution_count": 353
        }
      ]
    },
    {
      "cell_type": "code",
      "source": [],
      "metadata": {
        "id": "yNNFvTmehemf"
      },
      "id": "yNNFvTmehemf",
      "execution_count": null,
      "outputs": []
    }
  ],
  "metadata": {
    "kernelspec": {
      "display_name": "Python 3",
      "language": "python",
      "name": "python3"
    },
    "language_info": {
      "codemirror_mode": {
        "name": "ipython",
        "version": 3
      },
      "file_extension": ".py",
      "mimetype": "text/x-python",
      "name": "python",
      "nbconvert_exporter": "python",
      "pygments_lexer": "ipython3",
      "version": "3.11.3"
    },
    "colab": {
      "provenance": []
    }
  },
  "nbformat": 4,
  "nbformat_minor": 5
}