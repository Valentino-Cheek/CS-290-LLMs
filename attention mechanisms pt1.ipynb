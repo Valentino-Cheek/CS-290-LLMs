{
 "cells": [
  {
   "cell_type": "code",
   "execution_count": 91,
   "id": "54bb061c",
   "metadata": {},
   "outputs": [],
   "source": [
    "import torch\n",
    "import tiktoken"
   ]
  },
  {
   "cell_type": "code",
   "execution_count": 92,
   "id": "0924e3d8",
   "metadata": {},
   "outputs": [],
   "source": [
    "raw_text = \"This is my dog Raylan\""
   ]
  },
  {
   "cell_type": "code",
   "execution_count": 93,
   "id": "1060fc47",
   "metadata": {},
   "outputs": [],
   "source": [
    "tokenizer = tiktoken.get_encoding(\"gpt2\")"
   ]
  },
  {
   "cell_type": "code",
   "execution_count": 94,
   "id": "d0139c18",
   "metadata": {},
   "outputs": [
    {
     "name": "stdout",
     "output_type": "stream",
     "text": [
      "[1212, 318, 616, 3290, 7760, 9620]\n"
     ]
    }
   ],
   "source": [
    "enc_text = tokenizer.encode( raw_text )\n",
    "print(enc_text)"
   ]
  },
  {
   "cell_type": "code",
   "execution_count": 95,
   "id": "d5cc54a8",
   "metadata": {},
   "outputs": [
    {
     "name": "stdout",
     "output_type": "stream",
     "text": [
      "Parameter containing:\n",
      "tensor([[ 2.0054,  0.8437, -0.1893, -1.1401],\n",
      "        [-1.0140, -0.9595,  0.7667, -0.2105],\n",
      "        [-0.6968, -1.4435, -1.7641,  0.2957],\n",
      "        [ 1.2166, -0.9692,  0.1643,  0.6286],\n",
      "        [-0.1367, -1.5283,  0.4057, -0.0591]], requires_grad=True)\n"
     ]
    }
   ],
   "source": [
    "vocab_size = 5\n",
    "output_dim = 4\n",
    "inputs = torch.nn.Embedding( vocab_size, output_dim )\n",
    "print( inputs.weight )\n"
   ]
  },
  {
   "cell_type": "code",
   "execution_count": 96,
   "id": "afc6b11b",
   "metadata": {},
   "outputs": [
    {
     "name": "stdout",
     "output_type": "stream",
     "text": [
      "tensor([[ 2.0054,  0.8437, -0.1893, -1.1401],\n",
      "        [-1.0140, -0.9595,  0.7667, -0.2105],\n",
      "        [-0.6968, -1.4435, -1.7641,  0.2957],\n",
      "        [ 1.2166, -0.9692,  0.1643,  0.6286],\n",
      "        [-0.1367, -1.5283,  0.4057, -0.0591]])\n"
     ]
    }
   ],
   "source": [
    "inputs = inputs.weight.data\n",
    "print(inputs)\n"
   ]
  },
  {
   "cell_type": "code",
   "execution_count": 97,
   "id": "8a8da9f5",
   "metadata": {},
   "outputs": [
    {
     "data": {
      "text/plain": [
       "torch.Size([5, 4])"
      ]
     },
     "execution_count": 97,
     "metadata": {},
     "output_type": "execute_result"
    }
   ],
   "source": [
    "inputs.shape"
   ]
  },
  {
   "cell_type": "code",
   "execution_count": 98,
   "id": "0b24ae19",
   "metadata": {},
   "outputs": [
    {
     "name": "stdout",
     "output_type": "stream",
     "text": [
      "[2.0053961277008057, 0.8436736464500427, -0.18932749330997467, -1.140106201171875]\n",
      "[-1.0140067338943481, -0.9595248103141785, 0.766706645488739, -0.21046698093414307]\n",
      "[-0.6968480944633484, -1.4434772729873657, -1.7640630006790161, 0.295712947845459]\n",
      "[1.2166022062301636, -0.9692355394363403, 0.16427280008792877, 0.6286182999610901]\n",
      "[-0.13672968745231628, -1.528276801109314, 0.405729204416275, -0.05911269411444664]\n"
     ]
    }
   ],
   "source": [
    "for row in inputs:\n",
    "    print(row.tolist())"
   ]
  },
  {
   "cell_type": "code",
   "execution_count": 99,
   "id": "c36cedf4",
   "metadata": {},
   "outputs": [],
   "source": [
    "x = torch.Tensor([1.1,2.3])\n",
    "y = torch.Tensor([3.4,-2.1])"
   ]
  },
  {
   "cell_type": "code",
   "execution_count": 100,
   "id": "4aaa9ec5",
   "metadata": {},
   "outputs": [
    {
     "data": {
      "text/plain": [
       "-1.0899999999999999"
      ]
     },
     "execution_count": 100,
     "metadata": {},
     "output_type": "execute_result"
    }
   ],
   "source": [
    "1.1*3.4 + 2.3*-2.1"
   ]
  },
  {
   "cell_type": "code",
   "execution_count": 101,
   "id": "fa485471",
   "metadata": {},
   "outputs": [
    {
     "data": {
      "text/plain": [
       "tensor(-1.0900)"
      ]
     },
     "execution_count": 101,
     "metadata": {},
     "output_type": "execute_result"
    }
   ],
   "source": [
    "torch.dot(x,y)"
   ]
  },
  {
   "cell_type": "code",
   "execution_count": null,
   "id": "422e2432",
   "metadata": {},
   "outputs": [
    {
     "name": "stdout",
     "output_type": "stream",
     "text": [
      "tensor([-0.6968, -1.4435, -1.7641,  0.2957])\n"
     ]
    }
   ],
   "source": [
    "query = inputs[2]\n",
    "print(query)"
   ]
  },
  {
   "cell_type": "code",
   "execution_count": 107,
   "id": "3079418e",
   "metadata": {},
   "outputs": [
    {
     "name": "stdout",
     "output_type": "stream",
     "text": [
      "tensor(-2.6184)\n",
      "tensor(0.6769)\n",
      "tensor(5.7686)\n",
      "tensor(0.4474)\n",
      "tensor(1.5681)\n"
     ]
    }
   ],
   "source": [
    "for i in range( len( inputs )):\n",
    "    print( torch.dot(query, inputs[i]))"
   ]
  },
  {
   "cell_type": "code",
   "execution_count": 111,
   "id": "5b55ee14",
   "metadata": {},
   "outputs": [
    {
     "name": "stdout",
     "output_type": "stream",
     "text": [
      "tensor([-2.6184,  0.6769,  5.7686,  0.4474,  1.5681])\n"
     ]
    }
   ],
   "source": [
    "attention_scores_2 = torch.zeros(len(inputs))\n",
    "for i in range( len( inputs )):\n",
    "    attention_scores_2[i] = torch.dot(query, inputs[i])\n",
    "print(attention_scores_2)"
   ]
  },
  {
   "cell_type": "code",
   "execution_count": null,
   "id": "4f1c49a0",
   "metadata": {},
   "outputs": [],
   "source": [
    "# #normalize the attention scores using the softmax function\n",
    "# def softmax(x):\n",
    "#     torch.exp(x) / torch.exp(x).sum()"
   ]
  },
  {
   "cell_type": "code",
   "execution_count": 120,
   "id": "b1760798",
   "metadata": {},
   "outputs": [
    {
     "name": "stdout",
     "output_type": "stream",
     "text": [
      "tensor([0.1892, 0.1894, 0.2423, 0.1894, 0.1897])\n",
      "tensor(1.)\n"
     ]
    }
   ],
   "source": [
    "attention_scores_2 = torch.softmax(attention_scores_2, dim = 0)\n",
    "print(attention_scores_2)\n",
    "print( attention_scores_2.sum() )"
   ]
  },
  {
   "cell_type": "code",
   "execution_count": 123,
   "id": "0a382a33",
   "metadata": {},
   "outputs": [
    {
     "name": "stdout",
     "output_type": "stream",
     "text": [
      "tensor([ 0.2231, -0.8452, -0.2100, -0.0761])\n"
     ]
    }
   ],
   "source": [
    "context_vector_2 = torch.zeros( query.shape )\n",
    "for i in range(len(attention_scores_2)):\n",
    "    context_vector_2 += attention_scores_2[i]*inputs[i]\n",
    "print(context_vector_2)"
   ]
  },
  {
   "cell_type": "code",
   "execution_count": null,
   "id": "69dcf1fd",
   "metadata": {},
   "outputs": [],
   "source": []
  }
 ],
 "metadata": {
  "kernelspec": {
   "display_name": "Python 3",
   "language": "python",
   "name": "python3"
  },
  "language_info": {
   "codemirror_mode": {
    "name": "ipython",
    "version": 3
   },
   "file_extension": ".py",
   "mimetype": "text/x-python",
   "name": "python",
   "nbconvert_exporter": "python",
   "pygments_lexer": "ipython3",
   "version": "3.11.3"
  }
 },
 "nbformat": 4,
 "nbformat_minor": 5
}
