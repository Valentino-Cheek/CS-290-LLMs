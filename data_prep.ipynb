{
 "cells": [
  {
   "cell_type": "code",
   "execution_count": 29,
   "id": "3be06f70",
   "metadata": {},
   "outputs": [],
   "source": [
    "import torch\n",
    "import tiktoken"
   ]
  },
  {
   "cell_type": "code",
   "execution_count": 30,
   "id": "c1d147d1",
   "metadata": {},
   "outputs": [
    {
     "name": "stdout",
     "output_type": "stream",
     "text": [
      "A PLUME of smoke drifted under the great glass dom\n"
     ]
    }
   ],
   "source": [
    "with open (\"one-foggy-night.txt\", \"r\" ) as f:\n",
    "    raw_text = f.read()\n",
    "\n",
    "print (raw_text[:50])"
   ]
  },
  {
   "cell_type": "code",
   "execution_count": 31,
   "id": "d02de09c",
   "metadata": {},
   "outputs": [],
   "source": [
    "tokenizer = tiktoken.get_encoding(\"gpt2\")"
   ]
  },
  {
   "cell_type": "code",
   "execution_count": 32,
   "id": "d72cfe9c",
   "metadata": {},
   "outputs": [],
   "source": [
    "enc_text = tokenizer.encode(raw_text)"
   ]
  },
  {
   "cell_type": "code",
   "execution_count": 33,
   "id": "3fa2681d",
   "metadata": {},
   "outputs": [
    {
     "name": "stdout",
     "output_type": "stream",
     "text": [
      "[32, 9297, 38340, 286, 7523, 38648, 739, 262, 1049, 5405, 29500, 286, 3454, 363, 17913, 9327, 355, 262, 8342, 10604]\n"
     ]
    }
   ],
   "source": [
    "print(enc_text[:20])"
   ]
  },
  {
   "cell_type": "code",
   "execution_count": 34,
   "id": "f238b131",
   "metadata": {},
   "outputs": [
    {
     "name": "stdout",
     "output_type": "stream",
     "text": [
      "A PL\n"
     ]
    },
    {
     "data": {
      "text/plain": [
       "5513"
      ]
     },
     "execution_count": 34,
     "metadata": {},
     "output_type": "execute_result"
    }
   ],
   "source": [
    "print( tokenizer.decode( enc_text[:2]))\n",
    "len( enc_text)"
   ]
  },
  {
   "cell_type": "code",
   "execution_count": 35,
   "id": "e47033aa",
   "metadata": {},
   "outputs": [
    {
     "name": "stdout",
     "output_type": "stream",
     "text": [
      "Input: A Target:  PL\n",
      "Input: A PL Target: UME\n",
      "Input: A PLUME Target:  of\n",
      "Input: A PLUME of Target:  smoke\n",
      "Input: A PLUME of smoke Target:  drifted\n",
      "Input: A PLUME of smoke drifted Target:  under\n",
      "Input: A PLUME of smoke drifted under Target:  the\n",
      "Input: A PLUME of smoke drifted under the Target:  great\n",
      "Input: A PLUME of smoke drifted under the great Target:  glass\n"
     ]
    }
   ],
   "source": [
    "for i in range(1,10):\n",
    "    print(\"Input:\", tokenizer.decode(enc_text[:i]), \"Target:\", tokenizer.decode([enc_text[i]]))"
   ]
  },
  {
   "cell_type": "code",
   "execution_count": 36,
   "id": "270fa953",
   "metadata": {},
   "outputs": [
    {
     "name": "stdout",
     "output_type": "stream",
     "text": [
      "PyTorch version: 2.2.2\n"
     ]
    }
   ],
   "source": [
    "print(\"PyTorch version:\", torch.__version__)"
   ]
  },
  {
   "cell_type": "code",
   "execution_count": 37,
   "id": "f2731e30",
   "metadata": {},
   "outputs": [],
   "source": [
    "from torch.utils.data import Dataset, DataLoader\n",
    "\n",
    "\n",
    "class GPTDatasetV1(Dataset):\n",
    "    def __init__(self, txt, tokenizer, max_length, stride):\n",
    "        self.input_ids = []\n",
    "        self.target_ids = []\n",
    "\n",
    "        # Tokenize the entire text\n",
    "        token_ids = tokenizer.encode(txt, allowed_special={\"<|endoftext|>\"})\n",
    "        assert len(token_ids) > max_length, \"Number of tokenized inputs must at least be equal to max_length+1\"\n",
    "\n",
    "        # Use a sliding window to chunk the book into overlapping sequences of max_length\n",
    "        for i in range(0, len(token_ids) - max_length, stride):\n",
    "            input_chunk = token_ids[i:i + max_length]\n",
    "            target_chunk = token_ids[i + 1: i + max_length + 1]\n",
    "            self.input_ids.append(torch.tensor(input_chunk))\n",
    "            self.target_ids.append(torch.tensor(target_chunk))\n",
    "\n",
    "    def __len__(self):\n",
    "        return len(self.input_ids)\n",
    "\n",
    "    def __getitem__(self, idx):\n",
    "        return self.input_ids[idx], self.target_ids[idx]"
   ]
  },
  {
   "cell_type": "code",
   "execution_count": 38,
   "id": "775cdaad",
   "metadata": {},
   "outputs": [],
   "source": [
    "def create_dataloader_v1(txt, batch_size=4, max_length=256, \n",
    "                         stride=128, shuffle=True, drop_last=True,\n",
    "                         num_workers=0):\n",
    "\n",
    "    # Initialize the tokenizer\n",
    "    tokenizer = tiktoken.get_encoding(\"gpt2\")\n",
    "\n",
    "    # Create dataset\n",
    "    dataset = GPTDatasetV1(txt, tokenizer, max_length, stride)\n",
    "\n",
    "    # Create dataloader\n",
    "    dataloader = DataLoader(\n",
    "        dataset,\n",
    "        batch_size=batch_size,\n",
    "        shuffle=shuffle,\n",
    "        drop_last=drop_last,\n",
    "        num_workers=num_workers\n",
    "    )\n",
    "\n",
    "    return dataloader"
   ]
  },
  {
   "cell_type": "code",
   "execution_count": 39,
   "id": "cc7f857f",
   "metadata": {},
   "outputs": [],
   "source": [
    "with open(\"one-foggy-night.txt\", \"r\", encoding=\"utf-8\") as f:\n",
    "    raw_text = f.read()"
   ]
  },
  {
   "cell_type": "code",
   "execution_count": 40,
   "id": "8a8cfd10",
   "metadata": {},
   "outputs": [
    {
     "name": "stdout",
     "output_type": "stream",
     "text": [
      "[tensor([[   32,  9297, 38340,   286]]), tensor([[ 9297, 38340,   286,  7523]])]\n"
     ]
    }
   ],
   "source": [
    "dataloader = create_dataloader_v1(\n",
    "    raw_text, batch_size=1, max_length=4, stride=4, shuffle=False\n",
    ")\n",
    "\n",
    "data_iter = iter(dataloader)\n",
    "first_batch = next(data_iter)\n",
    "print(first_batch)"
   ]
  },
  {
   "cell_type": "code",
   "execution_count": 41,
   "id": "433158b6",
   "metadata": {},
   "outputs": [
    {
     "name": "stdout",
     "output_type": "stream",
     "text": [
      "[tensor([[ 7523, 38648,   739,   262]]), tensor([[38648,   739,   262,  1049]])]\n"
     ]
    }
   ],
   "source": [
    "second_batch = next(data_iter)\n",
    "print(second_batch)"
   ]
  },
  {
   "cell_type": "code",
   "execution_count": 42,
   "id": "8b288d4a",
   "metadata": {},
   "outputs": [
    {
     "name": "stdout",
     "output_type": "stream",
     "text": [
      "Inputs:\n",
      " tensor([[   32,  9297, 38340,   286],\n",
      "        [ 7523, 38648,   739,   262],\n",
      "        [ 1049,  5405, 29500,   286],\n",
      "        [ 3454,   363, 17913,  9327],\n",
      "        [  355,   262,  8342, 10604],\n",
      "        [ 1625,  6364,   284,   257],\n",
      "        [ 1302, 24219,    13,   632],\n",
      "        [  373,  1972,  2739,   783]])\n",
      "\n",
      "Targets:\n",
      " tensor([[ 9297, 38340,   286,  7523],\n",
      "        [38648,   739,   262,  1049],\n",
      "        [ 5405, 29500,   286,  3454],\n",
      "        [  363, 17913,  9327,   355],\n",
      "        [  262,  8342, 10604,  1625],\n",
      "        [ 6364,   284,   257,  1302],\n",
      "        [24219,    13,   632,   373],\n",
      "        [ 1972,  2739,   783,    11]])\n"
     ]
    }
   ],
   "source": [
    "dataloader = create_dataloader_v1(raw_text, batch_size=8, max_length=4, stride=4, shuffle=False)\n",
    "\n",
    "data_iter = iter(dataloader)\n",
    "inputs, targets = next(data_iter)\n",
    "print(\"Inputs:\\n\", inputs)\n",
    "print(\"\\nTargets:\\n\", targets)"
   ]
  },
  {
   "cell_type": "code",
   "execution_count": 43,
   "id": "c1556232",
   "metadata": {},
   "outputs": [
    {
     "name": "stdout",
     "output_type": "stream",
     "text": [
      "<class 'torch.Tensor'>\n",
      "torch.Size([8, 4])\n"
     ]
    }
   ],
   "source": [
    "#get the dimensions and type of the input\n",
    "print(type(inputs))\n",
    "print(inputs.shape)"
   ]
  },
  {
   "cell_type": "code",
   "execution_count": 44,
   "id": "81957646",
   "metadata": {},
   "outputs": [
    {
     "data": {
      "text/plain": [
       "tensor([   32,  9297, 38340,   286])"
      ]
     },
     "execution_count": 44,
     "metadata": {},
     "output_type": "execute_result"
    }
   ],
   "source": [
    "# look at the first row\n",
    "inputs[0]"
   ]
  },
  {
   "cell_type": "code",
   "execution_count": 45,
   "id": "b77fd65c",
   "metadata": {},
   "outputs": [
    {
     "data": {
      "text/plain": [
       "tensor([  32, 7523, 1049, 3454,  355, 1625, 1302,  373])"
      ]
     },
     "execution_count": 45,
     "metadata": {},
     "output_type": "execute_result"
    }
   ],
   "source": [
    "# look at the first column, or the first element of each row\n",
    "inputs[:,0]"
   ]
  },
  {
   "cell_type": "code",
   "execution_count": 46,
   "id": "6c8509bf",
   "metadata": {},
   "outputs": [
    {
     "name": "stdout",
     "output_type": "stream",
     "text": [
      "A PLUME of\n",
      " smoke drifted under the\n",
      " great glass dome of\n",
      " Slagborough Station\n",
      " as the Northern Express\n",
      " came slowly to a\n",
      " standstill. It\n",
      " was getting late now\n"
     ]
    }
   ],
   "source": [
    "# iterating through the tensors, looking at the words rather than the tokens \n",
    "for row in inputs:\n",
    "    print(tokenizer.decode ( row.tolist()))"
   ]
  },
  {
   "cell_type": "code",
   "execution_count": 47,
   "id": "85b556ff",
   "metadata": {},
   "outputs": [
    {
     "name": "stdout",
     "output_type": "stream",
     "text": [
      "[tensor([[   32,  9297, 38340,   286]]), tensor([[ 9297, 38340,   286,  7523]])]\n",
      "[tensor([[ 9297, 38340,   286,  7523]]), tensor([[38340,   286,  7523, 38648]])]\n"
     ]
    }
   ],
   "source": [
    "\n",
    "with open(\"one-foggy-night.txt\", \"r\", encoding=\"utf-8\") as f:\n",
    "    raw_text = f.read()\n",
    "dataloader = create_dataloader_v1(\n",
    "    raw_text, batch_size=1, max_length=4, stride=1, shuffle=False)\n",
    "data_iter = iter(dataloader)\n",
    "first_batch = next(data_iter)\n",
    "print(first_batch)\n",
    "second_batch = next(data_iter)\n",
    "print(second_batch)"
   ]
  },
  {
   "cell_type": "code",
   "execution_count": 48,
   "id": "01a8d386",
   "metadata": {},
   "outputs": [],
   "source": [
    "vocab_size = 6\n",
    "output_dim = 3"
   ]
  },
  {
   "cell_type": "code",
   "execution_count": 49,
   "id": "89c6f7fe",
   "metadata": {},
   "outputs": [],
   "source": [
    "embedding = torch.nn.Embedding( vocab_size, output_dim )"
   ]
  },
  {
   "cell_type": "code",
   "execution_count": 50,
   "id": "3e90bda0",
   "metadata": {},
   "outputs": [
    {
     "name": "stdout",
     "output_type": "stream",
     "text": [
      "Parameter containing:\n",
      "tensor([[-0.1503,  0.9886, -0.7420],\n",
      "        [ 0.8194, -0.4790,  0.2558],\n",
      "        [ 1.8690,  0.9179, -0.1486],\n",
      "        [-0.0701,  2.0119,  1.3039],\n",
      "        [-1.4388, -0.2981, -0.3882],\n",
      "        [ 0.9299,  0.4336,  0.3698]], requires_grad=True)\n"
     ]
    }
   ],
   "source": [
    "print(embedding.weight)"
   ]
  },
  {
   "cell_type": "code",
   "execution_count": 51,
   "id": "838f75b4",
   "metadata": {},
   "outputs": [
    {
     "data": {
      "text/plain": [
       "tensor([[-0.1503,  0.9886, -0.7420],\n",
       "        [ 0.8194, -0.4790,  0.2558],\n",
       "        [ 1.8690,  0.9179, -0.1486],\n",
       "        [-0.0701,  2.0119,  1.3039],\n",
       "        [-1.4388, -0.2981, -0.3882],\n",
       "        [ 0.9299,  0.4336,  0.3698]])"
      ]
     },
     "execution_count": 51,
     "metadata": {},
     "output_type": "execute_result"
    }
   ],
   "source": [
    "#get rid of the requires_grad bit value\n",
    "embedding.weight.data"
   ]
  },
  {
   "cell_type": "code",
   "execution_count": null,
   "id": "e81f54cd",
   "metadata": {},
   "outputs": [
    {
     "name": "stdout",
     "output_type": "stream",
     "text": [
      "tensor([[-0.1503,  0.9886, -0.7420],\n",
      "        [ 0.8194, -0.4790,  0.2558],\n",
      "        [ 1.8690,  0.9179, -0.1486],\n",
      "        [-0.0701,  2.0119,  1.3039],\n",
      "        [-1.4388, -0.2981, -0.3882],\n",
      "        [ 0.9299,  0.4336,  0.3698]])\n"
     ]
    }
   ],
   "source": [
    "# or get rid of the ..\n",
    "print(embedding.weight.detach())"
   ]
  },
  {
   "cell_type": "code",
   "execution_count": 53,
   "id": "ca53ae9a",
   "metadata": {},
   "outputs": [],
   "source": [
    "embeddingb = torch.nn.Embedding( tokenizer.n_vocab, 256)"
   ]
  },
  {
   "cell_type": "code",
   "execution_count": 54,
   "id": "39113072",
   "metadata": {},
   "outputs": [
    {
     "data": {
      "text/plain": [
       "Parameter containing:\n",
       "tensor([[-1.0513,  0.0978, -0.7628,  ...,  1.0831,  0.5312,  0.6050],\n",
       "        [ 0.7677, -0.6192,  0.4671,  ..., -0.3672, -0.4005, -1.4050],\n",
       "        [ 1.5926, -0.2443, -0.0318,  ..., -0.1702,  0.3452, -0.8612],\n",
       "        ...,\n",
       "        [ 0.0069, -0.0329, -1.6368,  ...,  0.4549,  1.0701,  2.6172],\n",
       "        [-1.1016,  0.8737,  1.5565,  ..., -0.5927, -0.9203, -0.8780],\n",
       "        [-0.1298,  0.8040,  1.3808,  ...,  1.2625, -1.5140,  0.0861]],\n",
       "       requires_grad=True)"
      ]
     },
     "execution_count": 54,
     "metadata": {},
     "output_type": "execute_result"
    }
   ],
   "source": [
    "embeddingb.weight"
   ]
  },
  {
   "cell_type": "code",
   "execution_count": 55,
   "id": "cc6e728d",
   "metadata": {},
   "outputs": [
    {
     "name": "stdout",
     "output_type": "stream",
     "text": [
      "tensor([2.2000, 1.5000]) tensor([1.4000, 2.3000])\n"
     ]
    }
   ],
   "source": [
    "# make a tensor from scratch from scratch\n",
    "x = torch.tensor([2.2,1.5])\n",
    "y = torch.tensor([1.4,2.3])\n",
    "print(x,y)"
   ]
  },
  {
   "cell_type": "code",
   "execution_count": 56,
   "id": "9b089a43",
   "metadata": {},
   "outputs": [
    {
     "data": {
      "text/plain": [
       "tensor(6.5300)"
      ]
     },
     "execution_count": 56,
     "metadata": {},
     "output_type": "execute_result"
    }
   ],
   "source": [
    "torch.dot(x,y)"
   ]
  },
  {
   "cell_type": "code",
   "execution_count": null,
   "id": "e48472eb",
   "metadata": {},
   "outputs": [],
   "source": []
  }
 ],
 "metadata": {
  "kernelspec": {
   "display_name": "Python 3",
   "language": "python",
   "name": "python3"
  },
  "language_info": {
   "codemirror_mode": {
    "name": "ipython",
    "version": 3
   },
   "file_extension": ".py",
   "mimetype": "text/x-python",
   "name": "python",
   "nbconvert_exporter": "python",
   "pygments_lexer": "ipython3",
   "version": "3.11.3"
  }
 },
 "nbformat": 4,
 "nbformat_minor": 5
}
