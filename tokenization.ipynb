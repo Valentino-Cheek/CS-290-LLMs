{
 "cells": [
  {
   "cell_type": "markdown",
   "id": "f592fbb0",
   "metadata": {},
   "source": [
    "# Tokenization\n",
    "\n",
    "_Tokenization_ is the process of converting a body of text into individual _tokens_, e.g., words and punctuation characters. This is the first step for most Natural Language Processing (NLP) tasks, including preparing data for training an LLM. Let's see how it's done!"
   ]
  },
  {
   "cell_type": "markdown",
   "id": "09f17e49",
   "metadata": {},
   "source": [
    "## Some sample text"
   ]
  },
  {
   "cell_type": "code",
   "execution_count": 50,
   "id": "4bc42f87",
   "metadata": {},
   "outputs": [
    {
     "name": "stdout",
     "output_type": "stream",
     "text": [
      "This is a test! Or is this not a test? Test it to be sure. :)\n",
      "This sample text has 61 characters.\n"
     ]
    }
   ],
   "source": [
    "text = \"This is a test! Or is this not a test? Test it to be sure. :)\"\n",
    "print(text)\n",
    "print(f\"This sample text has {len(text)} characters.\")"
   ]
  },
  {
   "cell_type": "code",
   "execution_count": 51,
   "id": "97b6be35",
   "metadata": {},
   "outputs": [
    {
     "name": "stdout",
     "output_type": "stream",
     "text": [
      "['This', 'is', 'a', 'test!', 'Or', 'is', 'this', 'not', 'a', 'test?', 'Test', 'it', 'to', 'be', 'sure.', ':)']\n"
     ]
    }
   ],
   "source": [
    "print(text.split())"
   ]
  },
  {
   "cell_type": "code",
   "execution_count": 52,
   "id": "e3420c4a",
   "metadata": {},
   "outputs": [
    {
     "name": "stdout",
     "output_type": "stream",
     "text": [
      "\u001b[31mSignature:\u001b[39m str.split(self, /, sep=\u001b[38;5;28;01mNone\u001b[39;00m, maxsplit=-\u001b[32m1\u001b[39m)\n",
      "\u001b[31mDocstring:\u001b[39m\n",
      "Return a list of the substrings in the string, using sep as the separator string.\n",
      "\n",
      "  sep\n",
      "    The separator used to split the string.\n",
      "\n",
      "    When set to None (the default value), will split on any whitespace\n",
      "    character (including \\\\n \\\\r \\\\t \\\\f and spaces) and will discard\n",
      "    empty strings from the result.\n",
      "  maxsplit\n",
      "    Maximum number of splits (starting from the left).\n",
      "    -1 (the default value) means no limit.\n",
      "\n",
      "Note, str.split() is mainly useful for data that has been intentionally\n",
      "delimited.  With natural text that includes punctuation, consider using\n",
      "the regular expression module.\n",
      "\u001b[31mType:\u001b[39m      method_descriptor"
     ]
    }
   ],
   "source": [
    "str.split?"
   ]
  },
  {
   "cell_type": "code",
   "execution_count": 53,
   "id": "8c0ba08b",
   "metadata": {},
   "outputs": [],
   "source": [
    "import re"
   ]
  },
  {
   "cell_type": "markdown",
   "id": "cefddcd1",
   "metadata": {},
   "source": [
    "Set takes the unique items from a list"
   ]
  },
  {
   "cell_type": "code",
   "execution_count": 54,
   "id": "492c767f",
   "metadata": {},
   "outputs": [
    {
     "name": "stdout",
     "output_type": "stream",
     "text": [
      "['This', 'is', 'a', 'test', '!', 'Or', 'is', 'this', 'not', 'a', 'test', '?', 'Test', 'it', 'to', 'be', 'sure', '.', ':', ')']\n",
      "['!', ')', '.', ':', '?', 'Or', 'Test', 'This', 'a', 'be', 'is', 'it', 'not', 'sure', 'test', 'this', 'to']\n"
     ]
    }
   ],
   "source": [
    "tokens = re.split(r'([.?!:()]|\\s)', text)\n",
    "tokens = [ items for items in tokens if items.split()]\n",
    "Stokens = sorted (list( set( tokens )) )\n",
    "print(tokens)\n",
    "print(Stokens)"
   ]
  },
  {
   "cell_type": "code",
   "execution_count": 55,
   "id": "b56ae35c",
   "metadata": {},
   "outputs": [
    {
     "name": "stdout",
     "output_type": "stream",
     "text": [
      "dict_items([('!', 0), (')', 1), ('.', 2), (':', 3), ('?', 4), ('Or', 5), ('Test', 6), ('This', 7), ('a', 8), ('be', 9), ('is', 10), ('it', 11), ('not', 12), ('sure', 13), ('test', 14), ('this', 15), ('to', 16)])\n"
     ]
    }
   ],
   "source": [
    "\n",
    "vocab = { token:index for index, token in enumerate( Stokens )}\n",
    "print( vocab.items())"
   ]
  },
  {
   "cell_type": "code",
   "execution_count": 56,
   "id": "b9c3edff",
   "metadata": {},
   "outputs": [
    {
     "data": {
      "text/plain": [
       "8"
      ]
     },
     "execution_count": 56,
     "metadata": {},
     "output_type": "execute_result"
    }
   ],
   "source": [
    "vocab[\"a\"]"
   ]
  },
  {
   "cell_type": "code",
   "execution_count": 57,
   "id": "9b99049a",
   "metadata": {},
   "outputs": [
    {
     "name": "stdout",
     "output_type": "stream",
     "text": [
      "A PLUME of smoke drifted under the great glass dome of Slagborough Station as the Northern Express c\n"
     ]
    }
   ],
   "source": [
    "with open(\"one-foggy-night.txt\", \"r\") as f:\n",
    "    raw_text = f.read()\n",
    "print(raw_text[:100])"
   ]
  },
  {
   "cell_type": "code",
   "execution_count": 131,
   "id": "f6d22a75",
   "metadata": {},
   "outputs": [
    {
     "name": "stdout",
     "output_type": "stream",
     "text": [
      "5033\n",
      "1197\n"
     ]
    }
   ],
   "source": [
    "tokens = re.split(r'([.?!:()\",]|\\s)', raw_text)\n",
    "tokens = [ items for items in tokens if items.split()]\n",
    "tokens.extend([\"<|unk|>\", \"<|endoftext|>\"])\n",
    "\n",
    "print( len (tokens))\n",
    "\n",
    "\n",
    "\n",
    "tokens = sorted (list( set( tokens )) )\n",
    "print( len (tokens))"
   ]
  },
  {
   "cell_type": "code",
   "execution_count": 132,
   "id": "cb6eaaf8",
   "metadata": {},
   "outputs": [
    {
     "name": "stdout",
     "output_type": "stream",
     "text": [
      "['worked', 'working', 'would', \"wouldn't\", 'writer', 'written', 'wrong', 'wrote', 'yard', 'year', 'years', 'yes', 'yet', 'you', \"you're\", \"you've\", 'your', 'yours', 'zest', '—']\n"
     ]
    }
   ],
   "source": [
    "print( tokens[-20:])"
   ]
  },
  {
   "cell_type": "code",
   "execution_count": 133,
   "id": "6b32cb95",
   "metadata": {},
   "outputs": [
    {
     "data": {
      "text/plain": [
       "dict_items([('!', 0), ('\"', 1), (\"'asn't\", 2), (\"'ave\", 3), (\"'e\", 4), (\"'e'd\", 5), (\"'e's\", 6), (\"'im\", 7), (\"'imself\", 8), (\"'is\", 9), (\"'isself\", 10), (\"'ow\", 11), (',', 12), ('.', 13), ('18975', 14), ('19', 15), (':', 16), ('<|endoftext|>', 17), ('<|unk|>', 18), ('?', 19), ('A', 20), ('According', 21), ('Ah', 22), ('Along', 23), ('And', 24), ('Anyway', 25), ('Apparently', 26), ('As', 27), ('At', 28), (\"Barker's\", 29), ('Besides', 30), ('But', 31), ('Certainly', 32), ('Churchyard', 33), ('City', 34), ('Come', 35), ('Dear', 36), ('England', 37), ('Essex', 38), ('Express', 39), ('Fadden', 40), (\"Fadden's\", 41), ('Flinn', 42), ('For', 43), ('Foxhill', 44), ('From', 45), ('Gange', 46), ('Gaylord', 47), (\"Gray's\", 48), ('Has', 49), ('He', 50), ('Here', 51), ('His', 52), ('How', 53), ('I', 54), (\"I'll\", 55), (\"I'm\", 56), ('If', 57), ('In', 58), ('Inn', 59), ('Inside', 60), ('Inspector', 61), ('Instead', 62), (\"Isn't\", 63), ('It', 64), (\"It's\", 65), ('Jabez', 66), ('Joe', 67), ('London', 68), ('Look', 69), ('Looks', 70), ('March', 71), ('Maria', 72), ('Mary', 73), ('Moreover', 74), ('Mr', 75), ('Mrs', 76), ('Murdered', 77), ('My', 78), ('Newcastle', 79), ('No', 80), ('Northern', 81), ('Now', 82), ('Obviously', 83), ('Occasionally', 84), ('Oh', 85), ('On', 86), ('PLUME', 87), (\"Paul's\", 88), ('Pullman', 89), ('Queen', 90), ('Quite', 91), ('Richard', 92), ('Road', 93), ('Scotland', 94), ('She', 95), ('Sir', 96), ('Slagborough', 97), ('So', 98), ('St', 99), ('Station', 100), ('Still', 101), ('Street', 102), ('Sunday', 103), ('That', 104), (\"That's\", 105), ('The', 106), ('Then', 107), ('There', 108), (\"There's\", 109), ('Thomas', 110), ('Thornton', 111), (\"Thornton's\", 112), ('Three', 113), ('To', 114), ('Tuesday', 115), ('Tunnel', 116), ('Tyneside', 117), ('Venner', 118), ('We', 119), (\"We'll\", 120), (\"We've\", 121), ('Well', 122), ('Wharf', 123), ('What', 124), (\"What's\", 125), ('When', 126), ('Where', 127), ('Whoever', 128), ('Why', 129), ('Withington', 130), ('Without', 131), ('Yard', 132), ('You', 133), ('Your', 134), ('Yours', 135), ('a', 136), ('about', 137), ('above', 138), ('absolutely', 139), ('accident', 140), ('accomplice', 141), ('according', 142), ('account', 143), ('across', 144), ('actually', 145), ('address', 146), ('addressed', 147), ('adjourned', 148), ('advantage', 149), ('affairs', 150), ('afraid', 151), ('after', 152), ('again', 153), ('against', 154), ('aged', 155), ('ago', 156), ('air', 157), ('alarmed', 158), ('all', 159), ('allow', 160), ('almost', 161), ('alone', 162), ('along', 163), ('already', 164), ('altogether', 165), ('am', 166), ('amount', 167), ('an', 168), (\"an'\", 169), ('and', 170), ('another', 171), ('any', 172), ('anybody', 173), (\"anybody'd\", 174), ('anything', 175), ('apart', 176), ('apparently', 177), ('appeal', 178), ('appear', 179), ('appeared', 180), ('are', 181), ('arrest', 182), ('artist', 183), ('as', 184), ('aside', 185), ('ask', 186), ('asked', 187), ('asleep', 188), ('assume', 189), ('assumed', 190), ('at', 191), ('ate', 192), ('attention', 193), ('attractive', 194), ('authorities', 195), ('average', 196), ('aware', 197), ('away', 198), ('back', 199), ('bad', 200), ('badly;', 201), ('bank-note', 202), ('be', 203), ('became', 204), ('because', 205), ('become', 206), ('bed', 207), ('been', 208), ('before', 209), ('begin', 210), ('begun', 211), ('being', 212), ('besides', 213), ('best', 214), ('bet', 215), ('between', 216), ('beyond', 217), ('big', 218), ('bin', 219), ('bite', 220), ('black—a', 221), ('blinds', 222), ('block', 223), ('blood', 224), ('bloodshot', 225), ('blotting-pad', 226), ('blue', 227), ('body', 228), ('borders', 229), ('branch', 230), ('breakfast', 231), ('breakfasting', 232), ('breast', 233), ('brilliant', 234), ('brow', 235), ('burden', 236), ('business', 237), ('busy', 238), ('but', 239), ('by', 240), ('called', 241), ('came', 242), ('can', 243), ('cannot', 244), ('care', 245), ('careful', 246), ('carefully', 247), ('careless', 248), ('carelessly', 249), ('carriage', 250), ('carriages', 251), ('carried', 252), ('cars', 253), ('case', 254), ('cashed', 255), ('catch', 256), ('catching', 257), ('certain', 258), ('chain', 259), ('chair', 260), (\"chap's\", 261), ('chaps', 262), ('charge', 263), ('cheque', 264), ('child', 265), ('clean', 266), ('clean-shaven', 267), ('clear', 268), ('clearly', 269), ('clerk', 270), ('clever', 271), ('cleverly', 272), ('clipped', 273), ('close', 274), ('closed', 275), ('clue', 276), ('clung', 277), ('coincided', 278), ('coincidences', 279), ('cold', 280), ('collapsed', 281), ('collector', 282), ('colour', 283), ('come', 284), ('comes', 285), ('commit', 286), ('committed', 287), ('comparatively', 288), ('compartment', 289), ('compound', 290), ('comrade', 291), ('concentrated', 292), ('concern', 293), ('concerned', 294), ('condition', 295), ('confidence', 296), ('consisted', 297), ('containing', 298), ('contradicted', 299), ('contrary', 300), ('conveyed', 301), ('corner', 302), ('corners', 303), ('correct', 304), ('corridor', 305), ('cottage', 306), ('could', 307), ('country', 308), ('course', 309), ('course—in', 310), ('crept', 311), ('crime', 312), ('criminal', 313), ('crisply', 314), ('crossed', 315), ('crowded', 316), ('cruel', 317), ('cruelly', 318), ('cry', 319), ('curtain', 320), ('custom', 321), ('dahn', 322), ('dance', 323), ('dared', 324), ('dark', 325), ('day', 326), ('days', 327), ('dead', 328), ('deal', 329), ('death', 330), ('debt', 331), ('deceased', 332), ('definite', 333), ('delayed', 334), ('departure', 335), ('deserted', 336), ('designs', 337), ('desk', 338), ('details', 339), ('detection', 340), ('detective', 341), ('devil', 342), ('did', 343), ('difficult', 344), ('dingy', 345), ('direction', 346), ('directly', 347), ('disappointed', 348), ('discovered', 349), ('discovery', 350), ('disturbed', 351), ('do', 352), ('does', 353), (\"doesn't\", 354), ('doing', 355), ('dome', 356), (\"don't\", 357), ('door', 358), ('door—a', 359), ('double', 360), ('doubt', 361), ('down', 362), ('downwards', 363), ('dozen', 364), ('drank', 365), ('drawn', 366), ('dressed', 367), ('drifted', 368), ('dropped', 369), ('drudge', 370), ('dryly', 371), ('dunno', 372), ('during', 373), ('duty', 374), ('earned', 375), ('easy', 376), ('eddy', 377), ('effect', 378), ('effects', 379), ('either', 380), ('elapsed', 381), ('elderly', 382), ('electric', 383), ('emphatically', 384), ('employed', 385), ('employment', 386), ('empty', 387), ('enclose', 388), ('enclosing', 389), ('end', 390), ('engagement', 391), ('engine', 392), ('enjoyment', 393), ('enough', 394), ('entered', 395), ('entirely', 396), ('entrance', 397), ('epistle', 398), ('equally', 399), ('escape', 400), ('especially', 401), ('established—and', 402), ('even', 403), ('evening', 404), ('every', 405), ('evidence', 406), ('evidently', 407), ('exactly', 408), ('examination', 409), ('examine', 410), ('examined', 411), ('exceedingly', 412), ('except', 413), ('exchange', 414), ('exclaimed', 415), ('expected', 416), ('express', 417), ('extensive', 418), ('extraordinary', 419), ('eye', 420), ('eyes', 421), ('face', 422), ('fact', 423), ('faded', 424), ('false', 425), ('far', 426), ('fastened', 427), ('fatal', 428), ('favourite', 429), ('fear', 430), ('fearfully', 431), ('feelings', 432), ('feels', 433), ('feet', 434), ('fell', 435), ('feminine', 436), ('few', 437), ('figures', 438), ('find', 439), ('finding', 440), ('finds', 441), ('fine', 442), ('finished', 443), ('fire', 444), ('firm', 445), ('first', 446), ('first-class', 447), ('five', 448), ('five-pound', 449), ('fiver', 450), ('flare', 451), ('floor', 452), ('fog', 453), ('foggy', 454), ('following', 455), ('follows', 456), ('fond', 457), ('for', 458), ('forced', 459), ('forged', 460), ('forward', 461), ('forwarded', 462), ('found', 463), ('frame', 464), ('fresh', 465), ('friends', 466), ('from', 467), ('full', 468), ('further', 469), ('gang', 470), ('gather', 471), ('general', 472), ('get', 473), ('getting', 474), ('given', 475), ('giving', 476), ('glass', 477), ('go', 478), ('goes', 479), ('going', 480), ('gold', 481), ('gone', 482), ('good', 483), ('got', 484), ('grasping', 485), ('great', 486), ('greatest', 487), ('green-and-gold', 488), ('grey', 489), ('grimly', 490), ('grimmest', 491), ('grip', 492), ('groaned', 493), ('grocer', 494), ('guard', 495), (\"guard's\", 496), ('habit', 497), ('habits—you', 498), ('had', 499), ('half', 500), ('half-crown', 501), ('hand', 502), ('hand-bag', 503), ('handed', 504), ('handing', 505), ('hanged', 506), ('happen', 507), ('happened', 508), ('happens', 509), ('hard', 510), ('hardened', 511), ('has', 512), ('haunted', 513), ('have', 514), ('he', 515), ('head', 516), ('headed', 517), ('heard', 518), ('heartless', 519), ('help', 520), ('her', 521), ('here', 522), ('herewith', 523), ('hers', 524), ('hesitation', 525), ('him', 526), ('himself', 527), ('him—signs', 528), ('his', 529), ('hoarsely', 530), ('hold', 531), ('holes', 532), ('home', 533), ('hope', 534), ('hopes', 535), ('hour', 536), ('hours', 537), ('house', 538), ('house-keeper', 539), ('housekeeper', 540), ('how', 541), ('however', 542), ('how—why—when', 543), ('huddled', 544), ('human', 545), ('hung', 546), ('hurry', 547), ('hurt', 548), ('husband', 549), ('idea', 550), ('identification', 551), ('identity', 552), ('if', 553), ('imagination', 554), ('imagine', 555), ('impatiently', 556), ('implore', 557), ('important', 558), ('impossible', 559), ('in', 560), ('incredible', 561), ('indicate', 562), ('individual', 563), ('information', 564), ('informed', 565), ('injured', 566), ('inquest', 567), ('inquiries—in', 568), ('inquiring', 569), ('inquiry', 570), ('inside', 571), ('inspection', 572), ('inspector', 573), ('instalments', 574), ('instantaneous', 575), ('intention', 576), ('interest', 577), ('interesting', 578), ('intimation', 579), ('into', 580), ('invariable', 581), ('invariably', 582), ('investigations', 583), ('is', 584), (\"isn't\", 585), ('it', 586), (\"it's\", 587), ('its', 588), ('itself', 589), ('it—and', 590), ('joined', 591), ('jotted', 592), ('journey', 593), ('journeys', 594), ('judge', 595), ('judicious', 596), ('just', 597), ('justice', 598), ('keep', 599), ('keeping', 600), ('kept', 601), ('key', 602), ('keys', 603), ('killed', 604), ('kind', 605), ('knew', 606), ('knife', 607), ('know', 608), ('knowing', 609), ('knowledge', 610), ('knows', 611), ('laid', 612), ('lain', 613), ('lamps', 614), ('lanes', 615), ('lapsed', 616), ('large', 617), ('last', 618), ('late', 619), ('lately', 620), ('later', 621), ('latter', 622), ('lead', 623), ('learn', 624), ('least', 625), ('leave', 626), ('leaving', 627), ('left', 628), ('length', 629), ('less', 630), ('let', 631), ('letter', 632), ('lettering', 633), ('letters', 634), ('life', 635), ('light', 636), ('lightning', 637), ('lights', 638), ('like', 639), ('likely', 640), ('line', 641), ('lines', 642), ('lips', 643), ('little', 644), ('lived', 645), ('lives', 646), ('locked', 647), ('lonely', 648), ('long', 649), ('longer', 650), ('look', 651), ('looked', 652), ('lose', 653), ('lot', 654), ('lowered', 655), ('luck', 656), ('luggage', 657), ('lying', 658), ('made', 659), ('make', 660), (\"makin'\", 661), ('making', 662), ('man', 663), (\"man's\", 664), ('manage', 665), ('mantelpiece', 666), ('many', 667), ('mark', 668), ('mass', 669), ('master', 670), (\"master's\", 671), ('matter', 672), ('may', 673), ('me', 674), ('meal', 675), ('meals', 676), ('means', 677), ('mechanically', 678), ('medium', 679), ('meet', 680), ('memorandum', 681), ('memory', 682), ('men', 683), ('merchant', 684), ('mere', 685), ('merely', 686), ('methodical', 687), ('might', 688), ('mind', 689), ('minute', 690), ('minutes', 691), ('missing', 692), ('moment', 693), ('money', 694), ('money-lender', 695), ('moon', 696), ('more', 697), ('moreover', 698), ('morning', 699), ('most', 700), ('much', 701), ('murder', 702), ('murdered', 703), ('murmured', 704), ('music-hall', 705), ('music-halls', 706), ('must', 707), ('muttered', 708), ('my', 709), ('myself', 710), ('mysterious', 711), ('mysteriously', 712), ('mystery', 713), ('name', 714), ('named', 715), ('near', 716), ('nearly', 717), ('neat', 718), ('necessary', 719), ('necessity', 720), (\"needn't\", 721), ('never', 722), ('next', 723), ('night', 724), ('nights', 725), ('nine', 726), ('no', 727), ('nodded', 728), ('not', 729), ('note', 730), ('notes', 731), ('nothing', 732), ('nothing;', 733), ('now', 734), ('number', 735), ('numbers', 736), ('numerous', 737), (\"o'clock\", 738), ('oath', 739), ('object', 740), ('observe', 741), ('obstinately', 742), ('obtained', 743), ('obviously', 744), ('occasion', 745), ('occasions;', 746), ('of', 747), ('off', 748), ('offence', 749), ('office', 750), ('officer', 751), ('official', 752), ('officials', 753), ('often', 754), ('old', 755), ('on', 756), ('one', 757), ('only', 758), ('opaque', 759), ('opened', 760), ('opinion', 761), ('opposite', 762), ('or', 763), ('order', 764), ('ordinary', 765), ('other', 766), ('ought', 767), ('our', 768), ('out', 769), ('outside', 770), ('outwardly', 771), ('over', 772), ('owe', 773), ('owed', 774), ('own', 775), ('pad', 776), ('paid', 777), ('pall', 778), ('paper', 779), ('papers', 780), ('paper—which', 781), ('parrot', 782), ('part', 783), ('particularly', 784), ('passed', 785), ('passenger', 786), ('past', 787), ('pasted', 788), ('pathetic', 789), ('pay', 790), ('paying', 791), ('peacefully', 792), ('pencil', 793), ('pencilled', 794), ('pending', 795), ('penny', 796), ('people', 797), ('picked', 798), ('picture', 799), ('piece', 800), ('piling', 801), ('pitiful', 802), ('placed', 803), ('platform', 804), ('plenty', 805), ('plunged', 806), ('pocket', 807), ('pocket-book', 808), ('police', 809), ('poor', 810), ('popular', 811), ('pore', 812), ('porter', 813), ('portmanteau', 814), ('possession', 815), ('possible', 816), ('possibly', 817), ('post', 818), ('postal', 819), ('posters', 820), ('postmark', 821), ('pounds', 822), ('poverty', 823), ('practically', 824), ('pray', 825), ('precious', 826), ('present', 827), ('presently', 828), ('presumably', 829), ('pretences', 830), ('pretty', 831), ('previous', 832), ('probably', 833), ('proceeded', 834), ('proceedings', 835), ('procure', 836), ('promise', 837), ('promised', 838), ('proper', 839), ('prosecuted', 840), ('prove', 841), ('public', 842), ('public-house', 843), ('pull', 844), ('pulled', 845), ('purely', 846), ('purpose', 847), ('purposes', 848), ('purse', 849), ('put', 850), ('puzzled', 851), ('quarter', 852), ('question', 853), ('quite', 854), ('quivered', 855), ('racing', 856), ('railway', 857), ('ran', 858), ('rate', 859), ('rather', 860), ('reached', 861), ('read', 862), ('real', 863), ('really', 864), ('reason', 865), ('received', 866), ('recently', 867), ('recipient', 868), ('recorded', 869), ('recovered', 870), ('regard', 871), ('regarded', 872), ('regret', 873), ('regrets', 874), ('remain', 875), ('removed', 876), ('repairs', 877), ('repeat', 878), ('replaced', 879), ('represent', 880), ('request', 881), ('resided', 882), ('reticent', 883), ('return', 884), ('returned', 885), ('rid', 886), ('right', 887), ('road', 888), ('rob', 889), ('robbed', 890), ('room', 891), ('round', 892), ('rule', 893), ('running', 894), ('safe', 895), ('safe—which', 896), ('said', 897), ('sake', 898), ('same', 899), ('satisfied', 900), ('save', 901), ('saved', 902), ('say', 903), (\"sayin'\", 904), ('saying', 905), ('say——', 906), ('scaffold', 907), ('scoundrel', 908), ('scribbled', 909), ('search', 910), ('secured', 911), ('see', 912), ('seemed', 913), ('seems', 914), ('seen', 915), ('send', 916), ('sending', 917), ('sensitive', 918), ('sent', 919), ('seriously', 920), ('set', 921), ('seven', 922), ('several', 923), ('shadow', 924), ('shaken', 925), ('shall', 926), ('she', 927), ('sheet', 928), ('shirt-front', 929), ('shortly', 930), ('should', 931), ('shoulder', 932), ('showed', 933), ('side', 934), ('sign', 935), ('signal', 936), ('signs', 937), ('silver', 938), ('simply', 939), ('since', 940), ('sitting', 941), ('sitting-room', 942), (\"sleeper's\", 943), ('slightest', 944), ('slipped', 945), ('slowly', 946), ('slumber', 947), ('small', 948), ('smile', 949), ('smiled', 950), ('smoke', 951), ('snake', 952), ('snowed', 953), ('so', 954), ('some', 955), ('someone', 956), ('something', 957), ('somewhat', 958), ('soon', 959), ('sort', 960), ('speak', 961), ('speaking', 962), ('speaks', 963), ('spending', 964), ('spoke', 965), ('spot', 966), ('stabbed', 967), ('stage', 968), ('stammered', 969), ('standstill', 970), ('start', 971), ('startled', 972), ('starve', 973), ('statement', 974), ('station', 975), ('stations', 976), ('still', 977), ('stolen', 978), ('stood', 979), ('stop', 980), ('stopped', 981), ('street', 982), ('stroke', 983), ('strolls', 984), ('struck', 985), ('struggle', 986), ('struggled', 987), ('stumbled', 988), ('stupidity;', 989), ('subsequently', 990), ('substantial', 991), ('suburban', 992), ('such', 993), ('suggest', 994), ('suggesting', 995), ('suggestion', 996), ('suggests', 997), ('suicide', 998), ('suit', 999), ('sullenly', 1000), ('sum', 1001), ('superintendent', 1002), ('supper', 1003), ('supper-table', 1004), ('suppose', 1005), ('suspicion', 1006), ('sweat', 1007), ('table', 1008), ('take', 1009), ('taken', 1010), ('tale', 1011), ('talking', 1012), ('tangible', 1013), ('task', 1014), ('taskmaster', 1015), ('tea', 1016), ('tea-time', 1017), ('tell', 1018), ('telling', 1019), ('ten', 1020), ('tendency', 1021), ('term', 1022), ('terminus', 1023), ('terribly', 1024), ('terror', 1025), ('than', 1026), ('that', 1027), (\"that's\", 1028), ('the', 1029), ('them', 1030), ('them—at', 1031), ('then', 1032), ('theory', 1033), ('there', 1034), (\"there'll\", 1035), (\"there's\", 1036), ('these', 1037), ('they', 1038), ('thick', 1039), ('thing', 1040), ('things', 1041), ('think', 1042), ('thinking', 1043), ('this', 1044), ('those', 1045), ('though', 1046), ('thought', 1047), ('thoughtfully', 1048), ('thoughts', 1049), ('three', 1050), ('throat', 1051), ('through', 1052), ('throw', 1053), ('thrown', 1054), ('thumb', 1055), ('ticket', 1056), ('tickets', 1057), ('time', 1058), ('times', 1059), ('tissue-paper', 1060), ('to', 1061), ('to-day', 1062), ('to-morrow', 1063), ('to-night', 1064), ('told', 1065), ('too', 1066), ('took', 1067), ('torn', 1068), ('tragedy', 1069), ('train', 1070), ('trained', 1071), ('trains', 1072), ('transpired', 1073), ('travel', 1074), ('travelling', 1075), ('treated', 1076), ('trifles', 1077), ('trivial', 1078), ('trouble', 1079), ('true', 1080), ('truly', 1081), ('truth', 1082), ('truth—at', 1083), ('tunnel', 1084), ('turned', 1085), ('twice', 1086), ('two', 1087), ('type', 1088), ('unable', 1089), ('unconsciously', 1090), ('under', 1091), ('understand', 1092), ('understood', 1093), ('undone', 1094), ('uneasily', 1095), ('unfortunate', 1096), ('unfortunately', 1097), ('unknown', 1098), ('unknown;', 1099), ('unless', 1100), ('unpleasantness', 1101), ('unshaven', 1102), ('unsteady', 1103), ('unusual', 1104), ('up', 1105), ('upon', 1106), ('used', 1107), ('useful', 1108), ('useless', 1109), ('usual', 1110), ('uttered', 1111), ('value', 1112), ('van', 1113), ('vein', 1114), ('verify', 1115), ('very', 1116), ('victim', 1117), ('view', 1118), ('visitation', 1119), ('wait', 1120), ('waited', 1121), ('waiting', 1122), ('waiting-rooms', 1123), ('walk', 1124), ('walked', 1125), ('walking', 1126), ('want', 1127), ('warrant', 1128), ('was', 1129), (\"wasn't\", 1130), ('wasted', 1131), ('wasting', 1132), ('watch', 1133), ('way', 1134), ('waylay', 1135), ('we', 1136), (\"we've\", 1137), ('weaknesses', 1138), ('weapon', 1139), ('weather', 1140), ('week', 1141), ('well', 1142), ('well-known', 1143), ('went', 1144), ('were', 1145), ('what', 1146), ('whatever', 1147), ('when', 1148), ('where', 1149), ('whether', 1150), ('which', 1151), ('whilst', 1152), ('whistle', 1153), ('white', 1154), ('who', 1155), ('whoever', 1156), ('whole', 1157), ('whom', 1158), ('whose', 1159), ('why', 1160), ('wife', 1161), ('will', 1162), ('window', 1163), ('windows', 1164), ('wish', 1165), ('with', 1166), ('within', 1167), ('without', 1168), ('witness', 1169), ('woman', 1170), (\"woman's\", 1171), ('wonder', 1172), ('woodwork', 1173), ('word', 1174), ('words', 1175), ('work', 1176), ('worked', 1177), ('working', 1178), ('would', 1179), (\"wouldn't\", 1180), ('writer', 1181), ('written', 1182), ('wrong', 1183), ('wrote', 1184), ('yard', 1185), ('year', 1186), ('years', 1187), ('yes', 1188), ('yet', 1189), ('you', 1190), (\"you're\", 1191), (\"you've\", 1192), ('your', 1193), ('yours', 1194), ('zest', 1195), ('—', 1196)])"
      ]
     },
     "execution_count": 133,
     "metadata": {},
     "output_type": "execute_result"
    }
   ],
   "source": [
    "vocab = {token:index for index, token in enumerate(tokens)}\n",
    "vocab.items()"
   ]
  },
  {
   "cell_type": "code",
   "execution_count": 134,
   "id": "8c1ab667",
   "metadata": {},
   "outputs": [],
   "source": [
    "phrase = \"A moment later, white and shaken, he was racing down the platform in the direction of the guard's van.\""
   ]
  },
  {
   "cell_type": "code",
   "execution_count": 135,
   "id": "47ea27c0",
   "metadata": {},
   "outputs": [],
   "source": [
    "phrase = re.split(r'([.?!:()\",]|\\s)', phrase)\n",
    "phrase = [ items for items in phrase if items.split()]"
   ]
  },
  {
   "cell_type": "code",
   "execution_count": 136,
   "id": "501f45b8",
   "metadata": {},
   "outputs": [
    {
     "name": "stdout",
     "output_type": "stream",
     "text": [
      "[20, 693, 621, 12, 1154, 170, 925, 12, 515, 1129, 856, 362, 1029, 804, 560, 1029, 346, 747, 1029, 496, 1113, 13]\n"
     ]
    }
   ],
   "source": [
    "ids = [ vocab[token] for token in phrase]\n",
    "print(ids)"
   ]
  },
  {
   "cell_type": "code",
   "execution_count": 137,
   "id": "33e58d5a",
   "metadata": {},
   "outputs": [
    {
     "data": {
      "text/plain": [
       "20"
      ]
     },
     "execution_count": 137,
     "metadata": {},
     "output_type": "execute_result"
    }
   ],
   "source": [
    "vocab[\"A\"]"
   ]
  },
  {
   "cell_type": "code",
   "execution_count": 138,
   "id": "43575d64",
   "metadata": {},
   "outputs": [
    {
     "data": {
      "text/plain": [
       "dict_items([(0, '!'), (1, '\"'), (2, \"'asn't\"), (3, \"'ave\"), (4, \"'e\"), (5, \"'e'd\"), (6, \"'e's\"), (7, \"'im\"), (8, \"'imself\"), (9, \"'is\"), (10, \"'isself\"), (11, \"'ow\"), (12, ','), (13, '.'), (14, '18975'), (15, '19'), (16, ':'), (17, '<|endoftext|>'), (18, '<|unk|>'), (19, '?'), (20, 'A'), (21, 'According'), (22, 'Ah'), (23, 'Along'), (24, 'And'), (25, 'Anyway'), (26, 'Apparently'), (27, 'As'), (28, 'At'), (29, \"Barker's\"), (30, 'Besides'), (31, 'But'), (32, 'Certainly'), (33, 'Churchyard'), (34, 'City'), (35, 'Come'), (36, 'Dear'), (37, 'England'), (38, 'Essex'), (39, 'Express'), (40, 'Fadden'), (41, \"Fadden's\"), (42, 'Flinn'), (43, 'For'), (44, 'Foxhill'), (45, 'From'), (46, 'Gange'), (47, 'Gaylord'), (48, \"Gray's\"), (49, 'Has'), (50, 'He'), (51, 'Here'), (52, 'His'), (53, 'How'), (54, 'I'), (55, \"I'll\"), (56, \"I'm\"), (57, 'If'), (58, 'In'), (59, 'Inn'), (60, 'Inside'), (61, 'Inspector'), (62, 'Instead'), (63, \"Isn't\"), (64, 'It'), (65, \"It's\"), (66, 'Jabez'), (67, 'Joe'), (68, 'London'), (69, 'Look'), (70, 'Looks'), (71, 'March'), (72, 'Maria'), (73, 'Mary'), (74, 'Moreover'), (75, 'Mr'), (76, 'Mrs'), (77, 'Murdered'), (78, 'My'), (79, 'Newcastle'), (80, 'No'), (81, 'Northern'), (82, 'Now'), (83, 'Obviously'), (84, 'Occasionally'), (85, 'Oh'), (86, 'On'), (87, 'PLUME'), (88, \"Paul's\"), (89, 'Pullman'), (90, 'Queen'), (91, 'Quite'), (92, 'Richard'), (93, 'Road'), (94, 'Scotland'), (95, 'She'), (96, 'Sir'), (97, 'Slagborough'), (98, 'So'), (99, 'St'), (100, 'Station'), (101, 'Still'), (102, 'Street'), (103, 'Sunday'), (104, 'That'), (105, \"That's\"), (106, 'The'), (107, 'Then'), (108, 'There'), (109, \"There's\"), (110, 'Thomas'), (111, 'Thornton'), (112, \"Thornton's\"), (113, 'Three'), (114, 'To'), (115, 'Tuesday'), (116, 'Tunnel'), (117, 'Tyneside'), (118, 'Venner'), (119, 'We'), (120, \"We'll\"), (121, \"We've\"), (122, 'Well'), (123, 'Wharf'), (124, 'What'), (125, \"What's\"), (126, 'When'), (127, 'Where'), (128, 'Whoever'), (129, 'Why'), (130, 'Withington'), (131, 'Without'), (132, 'Yard'), (133, 'You'), (134, 'Your'), (135, 'Yours'), (136, 'a'), (137, 'about'), (138, 'above'), (139, 'absolutely'), (140, 'accident'), (141, 'accomplice'), (142, 'according'), (143, 'account'), (144, 'across'), (145, 'actually'), (146, 'address'), (147, 'addressed'), (148, 'adjourned'), (149, 'advantage'), (150, 'affairs'), (151, 'afraid'), (152, 'after'), (153, 'again'), (154, 'against'), (155, 'aged'), (156, 'ago'), (157, 'air'), (158, 'alarmed'), (159, 'all'), (160, 'allow'), (161, 'almost'), (162, 'alone'), (163, 'along'), (164, 'already'), (165, 'altogether'), (166, 'am'), (167, 'amount'), (168, 'an'), (169, \"an'\"), (170, 'and'), (171, 'another'), (172, 'any'), (173, 'anybody'), (174, \"anybody'd\"), (175, 'anything'), (176, 'apart'), (177, 'apparently'), (178, 'appeal'), (179, 'appear'), (180, 'appeared'), (181, 'are'), (182, 'arrest'), (183, 'artist'), (184, 'as'), (185, 'aside'), (186, 'ask'), (187, 'asked'), (188, 'asleep'), (189, 'assume'), (190, 'assumed'), (191, 'at'), (192, 'ate'), (193, 'attention'), (194, 'attractive'), (195, 'authorities'), (196, 'average'), (197, 'aware'), (198, 'away'), (199, 'back'), (200, 'bad'), (201, 'badly;'), (202, 'bank-note'), (203, 'be'), (204, 'became'), (205, 'because'), (206, 'become'), (207, 'bed'), (208, 'been'), (209, 'before'), (210, 'begin'), (211, 'begun'), (212, 'being'), (213, 'besides'), (214, 'best'), (215, 'bet'), (216, 'between'), (217, 'beyond'), (218, 'big'), (219, 'bin'), (220, 'bite'), (221, 'black—a'), (222, 'blinds'), (223, 'block'), (224, 'blood'), (225, 'bloodshot'), (226, 'blotting-pad'), (227, 'blue'), (228, 'body'), (229, 'borders'), (230, 'branch'), (231, 'breakfast'), (232, 'breakfasting'), (233, 'breast'), (234, 'brilliant'), (235, 'brow'), (236, 'burden'), (237, 'business'), (238, 'busy'), (239, 'but'), (240, 'by'), (241, 'called'), (242, 'came'), (243, 'can'), (244, 'cannot'), (245, 'care'), (246, 'careful'), (247, 'carefully'), (248, 'careless'), (249, 'carelessly'), (250, 'carriage'), (251, 'carriages'), (252, 'carried'), (253, 'cars'), (254, 'case'), (255, 'cashed'), (256, 'catch'), (257, 'catching'), (258, 'certain'), (259, 'chain'), (260, 'chair'), (261, \"chap's\"), (262, 'chaps'), (263, 'charge'), (264, 'cheque'), (265, 'child'), (266, 'clean'), (267, 'clean-shaven'), (268, 'clear'), (269, 'clearly'), (270, 'clerk'), (271, 'clever'), (272, 'cleverly'), (273, 'clipped'), (274, 'close'), (275, 'closed'), (276, 'clue'), (277, 'clung'), (278, 'coincided'), (279, 'coincidences'), (280, 'cold'), (281, 'collapsed'), (282, 'collector'), (283, 'colour'), (284, 'come'), (285, 'comes'), (286, 'commit'), (287, 'committed'), (288, 'comparatively'), (289, 'compartment'), (290, 'compound'), (291, 'comrade'), (292, 'concentrated'), (293, 'concern'), (294, 'concerned'), (295, 'condition'), (296, 'confidence'), (297, 'consisted'), (298, 'containing'), (299, 'contradicted'), (300, 'contrary'), (301, 'conveyed'), (302, 'corner'), (303, 'corners'), (304, 'correct'), (305, 'corridor'), (306, 'cottage'), (307, 'could'), (308, 'country'), (309, 'course'), (310, 'course—in'), (311, 'crept'), (312, 'crime'), (313, 'criminal'), (314, 'crisply'), (315, 'crossed'), (316, 'crowded'), (317, 'cruel'), (318, 'cruelly'), (319, 'cry'), (320, 'curtain'), (321, 'custom'), (322, 'dahn'), (323, 'dance'), (324, 'dared'), (325, 'dark'), (326, 'day'), (327, 'days'), (328, 'dead'), (329, 'deal'), (330, 'death'), (331, 'debt'), (332, 'deceased'), (333, 'definite'), (334, 'delayed'), (335, 'departure'), (336, 'deserted'), (337, 'designs'), (338, 'desk'), (339, 'details'), (340, 'detection'), (341, 'detective'), (342, 'devil'), (343, 'did'), (344, 'difficult'), (345, 'dingy'), (346, 'direction'), (347, 'directly'), (348, 'disappointed'), (349, 'discovered'), (350, 'discovery'), (351, 'disturbed'), (352, 'do'), (353, 'does'), (354, \"doesn't\"), (355, 'doing'), (356, 'dome'), (357, \"don't\"), (358, 'door'), (359, 'door—a'), (360, 'double'), (361, 'doubt'), (362, 'down'), (363, 'downwards'), (364, 'dozen'), (365, 'drank'), (366, 'drawn'), (367, 'dressed'), (368, 'drifted'), (369, 'dropped'), (370, 'drudge'), (371, 'dryly'), (372, 'dunno'), (373, 'during'), (374, 'duty'), (375, 'earned'), (376, 'easy'), (377, 'eddy'), (378, 'effect'), (379, 'effects'), (380, 'either'), (381, 'elapsed'), (382, 'elderly'), (383, 'electric'), (384, 'emphatically'), (385, 'employed'), (386, 'employment'), (387, 'empty'), (388, 'enclose'), (389, 'enclosing'), (390, 'end'), (391, 'engagement'), (392, 'engine'), (393, 'enjoyment'), (394, 'enough'), (395, 'entered'), (396, 'entirely'), (397, 'entrance'), (398, 'epistle'), (399, 'equally'), (400, 'escape'), (401, 'especially'), (402, 'established—and'), (403, 'even'), (404, 'evening'), (405, 'every'), (406, 'evidence'), (407, 'evidently'), (408, 'exactly'), (409, 'examination'), (410, 'examine'), (411, 'examined'), (412, 'exceedingly'), (413, 'except'), (414, 'exchange'), (415, 'exclaimed'), (416, 'expected'), (417, 'express'), (418, 'extensive'), (419, 'extraordinary'), (420, 'eye'), (421, 'eyes'), (422, 'face'), (423, 'fact'), (424, 'faded'), (425, 'false'), (426, 'far'), (427, 'fastened'), (428, 'fatal'), (429, 'favourite'), (430, 'fear'), (431, 'fearfully'), (432, 'feelings'), (433, 'feels'), (434, 'feet'), (435, 'fell'), (436, 'feminine'), (437, 'few'), (438, 'figures'), (439, 'find'), (440, 'finding'), (441, 'finds'), (442, 'fine'), (443, 'finished'), (444, 'fire'), (445, 'firm'), (446, 'first'), (447, 'first-class'), (448, 'five'), (449, 'five-pound'), (450, 'fiver'), (451, 'flare'), (452, 'floor'), (453, 'fog'), (454, 'foggy'), (455, 'following'), (456, 'follows'), (457, 'fond'), (458, 'for'), (459, 'forced'), (460, 'forged'), (461, 'forward'), (462, 'forwarded'), (463, 'found'), (464, 'frame'), (465, 'fresh'), (466, 'friends'), (467, 'from'), (468, 'full'), (469, 'further'), (470, 'gang'), (471, 'gather'), (472, 'general'), (473, 'get'), (474, 'getting'), (475, 'given'), (476, 'giving'), (477, 'glass'), (478, 'go'), (479, 'goes'), (480, 'going'), (481, 'gold'), (482, 'gone'), (483, 'good'), (484, 'got'), (485, 'grasping'), (486, 'great'), (487, 'greatest'), (488, 'green-and-gold'), (489, 'grey'), (490, 'grimly'), (491, 'grimmest'), (492, 'grip'), (493, 'groaned'), (494, 'grocer'), (495, 'guard'), (496, \"guard's\"), (497, 'habit'), (498, 'habits—you'), (499, 'had'), (500, 'half'), (501, 'half-crown'), (502, 'hand'), (503, 'hand-bag'), (504, 'handed'), (505, 'handing'), (506, 'hanged'), (507, 'happen'), (508, 'happened'), (509, 'happens'), (510, 'hard'), (511, 'hardened'), (512, 'has'), (513, 'haunted'), (514, 'have'), (515, 'he'), (516, 'head'), (517, 'headed'), (518, 'heard'), (519, 'heartless'), (520, 'help'), (521, 'her'), (522, 'here'), (523, 'herewith'), (524, 'hers'), (525, 'hesitation'), (526, 'him'), (527, 'himself'), (528, 'him—signs'), (529, 'his'), (530, 'hoarsely'), (531, 'hold'), (532, 'holes'), (533, 'home'), (534, 'hope'), (535, 'hopes'), (536, 'hour'), (537, 'hours'), (538, 'house'), (539, 'house-keeper'), (540, 'housekeeper'), (541, 'how'), (542, 'however'), (543, 'how—why—when'), (544, 'huddled'), (545, 'human'), (546, 'hung'), (547, 'hurry'), (548, 'hurt'), (549, 'husband'), (550, 'idea'), (551, 'identification'), (552, 'identity'), (553, 'if'), (554, 'imagination'), (555, 'imagine'), (556, 'impatiently'), (557, 'implore'), (558, 'important'), (559, 'impossible'), (560, 'in'), (561, 'incredible'), (562, 'indicate'), (563, 'individual'), (564, 'information'), (565, 'informed'), (566, 'injured'), (567, 'inquest'), (568, 'inquiries—in'), (569, 'inquiring'), (570, 'inquiry'), (571, 'inside'), (572, 'inspection'), (573, 'inspector'), (574, 'instalments'), (575, 'instantaneous'), (576, 'intention'), (577, 'interest'), (578, 'interesting'), (579, 'intimation'), (580, 'into'), (581, 'invariable'), (582, 'invariably'), (583, 'investigations'), (584, 'is'), (585, \"isn't\"), (586, 'it'), (587, \"it's\"), (588, 'its'), (589, 'itself'), (590, 'it—and'), (591, 'joined'), (592, 'jotted'), (593, 'journey'), (594, 'journeys'), (595, 'judge'), (596, 'judicious'), (597, 'just'), (598, 'justice'), (599, 'keep'), (600, 'keeping'), (601, 'kept'), (602, 'key'), (603, 'keys'), (604, 'killed'), (605, 'kind'), (606, 'knew'), (607, 'knife'), (608, 'know'), (609, 'knowing'), (610, 'knowledge'), (611, 'knows'), (612, 'laid'), (613, 'lain'), (614, 'lamps'), (615, 'lanes'), (616, 'lapsed'), (617, 'large'), (618, 'last'), (619, 'late'), (620, 'lately'), (621, 'later'), (622, 'latter'), (623, 'lead'), (624, 'learn'), (625, 'least'), (626, 'leave'), (627, 'leaving'), (628, 'left'), (629, 'length'), (630, 'less'), (631, 'let'), (632, 'letter'), (633, 'lettering'), (634, 'letters'), (635, 'life'), (636, 'light'), (637, 'lightning'), (638, 'lights'), (639, 'like'), (640, 'likely'), (641, 'line'), (642, 'lines'), (643, 'lips'), (644, 'little'), (645, 'lived'), (646, 'lives'), (647, 'locked'), (648, 'lonely'), (649, 'long'), (650, 'longer'), (651, 'look'), (652, 'looked'), (653, 'lose'), (654, 'lot'), (655, 'lowered'), (656, 'luck'), (657, 'luggage'), (658, 'lying'), (659, 'made'), (660, 'make'), (661, \"makin'\"), (662, 'making'), (663, 'man'), (664, \"man's\"), (665, 'manage'), (666, 'mantelpiece'), (667, 'many'), (668, 'mark'), (669, 'mass'), (670, 'master'), (671, \"master's\"), (672, 'matter'), (673, 'may'), (674, 'me'), (675, 'meal'), (676, 'meals'), (677, 'means'), (678, 'mechanically'), (679, 'medium'), (680, 'meet'), (681, 'memorandum'), (682, 'memory'), (683, 'men'), (684, 'merchant'), (685, 'mere'), (686, 'merely'), (687, 'methodical'), (688, 'might'), (689, 'mind'), (690, 'minute'), (691, 'minutes'), (692, 'missing'), (693, 'moment'), (694, 'money'), (695, 'money-lender'), (696, 'moon'), (697, 'more'), (698, 'moreover'), (699, 'morning'), (700, 'most'), (701, 'much'), (702, 'murder'), (703, 'murdered'), (704, 'murmured'), (705, 'music-hall'), (706, 'music-halls'), (707, 'must'), (708, 'muttered'), (709, 'my'), (710, 'myself'), (711, 'mysterious'), (712, 'mysteriously'), (713, 'mystery'), (714, 'name'), (715, 'named'), (716, 'near'), (717, 'nearly'), (718, 'neat'), (719, 'necessary'), (720, 'necessity'), (721, \"needn't\"), (722, 'never'), (723, 'next'), (724, 'night'), (725, 'nights'), (726, 'nine'), (727, 'no'), (728, 'nodded'), (729, 'not'), (730, 'note'), (731, 'notes'), (732, 'nothing'), (733, 'nothing;'), (734, 'now'), (735, 'number'), (736, 'numbers'), (737, 'numerous'), (738, \"o'clock\"), (739, 'oath'), (740, 'object'), (741, 'observe'), (742, 'obstinately'), (743, 'obtained'), (744, 'obviously'), (745, 'occasion'), (746, 'occasions;'), (747, 'of'), (748, 'off'), (749, 'offence'), (750, 'office'), (751, 'officer'), (752, 'official'), (753, 'officials'), (754, 'often'), (755, 'old'), (756, 'on'), (757, 'one'), (758, 'only'), (759, 'opaque'), (760, 'opened'), (761, 'opinion'), (762, 'opposite'), (763, 'or'), (764, 'order'), (765, 'ordinary'), (766, 'other'), (767, 'ought'), (768, 'our'), (769, 'out'), (770, 'outside'), (771, 'outwardly'), (772, 'over'), (773, 'owe'), (774, 'owed'), (775, 'own'), (776, 'pad'), (777, 'paid'), (778, 'pall'), (779, 'paper'), (780, 'papers'), (781, 'paper—which'), (782, 'parrot'), (783, 'part'), (784, 'particularly'), (785, 'passed'), (786, 'passenger'), (787, 'past'), (788, 'pasted'), (789, 'pathetic'), (790, 'pay'), (791, 'paying'), (792, 'peacefully'), (793, 'pencil'), (794, 'pencilled'), (795, 'pending'), (796, 'penny'), (797, 'people'), (798, 'picked'), (799, 'picture'), (800, 'piece'), (801, 'piling'), (802, 'pitiful'), (803, 'placed'), (804, 'platform'), (805, 'plenty'), (806, 'plunged'), (807, 'pocket'), (808, 'pocket-book'), (809, 'police'), (810, 'poor'), (811, 'popular'), (812, 'pore'), (813, 'porter'), (814, 'portmanteau'), (815, 'possession'), (816, 'possible'), (817, 'possibly'), (818, 'post'), (819, 'postal'), (820, 'posters'), (821, 'postmark'), (822, 'pounds'), (823, 'poverty'), (824, 'practically'), (825, 'pray'), (826, 'precious'), (827, 'present'), (828, 'presently'), (829, 'presumably'), (830, 'pretences'), (831, 'pretty'), (832, 'previous'), (833, 'probably'), (834, 'proceeded'), (835, 'proceedings'), (836, 'procure'), (837, 'promise'), (838, 'promised'), (839, 'proper'), (840, 'prosecuted'), (841, 'prove'), (842, 'public'), (843, 'public-house'), (844, 'pull'), (845, 'pulled'), (846, 'purely'), (847, 'purpose'), (848, 'purposes'), (849, 'purse'), (850, 'put'), (851, 'puzzled'), (852, 'quarter'), (853, 'question'), (854, 'quite'), (855, 'quivered'), (856, 'racing'), (857, 'railway'), (858, 'ran'), (859, 'rate'), (860, 'rather'), (861, 'reached'), (862, 'read'), (863, 'real'), (864, 'really'), (865, 'reason'), (866, 'received'), (867, 'recently'), (868, 'recipient'), (869, 'recorded'), (870, 'recovered'), (871, 'regard'), (872, 'regarded'), (873, 'regret'), (874, 'regrets'), (875, 'remain'), (876, 'removed'), (877, 'repairs'), (878, 'repeat'), (879, 'replaced'), (880, 'represent'), (881, 'request'), (882, 'resided'), (883, 'reticent'), (884, 'return'), (885, 'returned'), (886, 'rid'), (887, 'right'), (888, 'road'), (889, 'rob'), (890, 'robbed'), (891, 'room'), (892, 'round'), (893, 'rule'), (894, 'running'), (895, 'safe'), (896, 'safe—which'), (897, 'said'), (898, 'sake'), (899, 'same'), (900, 'satisfied'), (901, 'save'), (902, 'saved'), (903, 'say'), (904, \"sayin'\"), (905, 'saying'), (906, 'say——'), (907, 'scaffold'), (908, 'scoundrel'), (909, 'scribbled'), (910, 'search'), (911, 'secured'), (912, 'see'), (913, 'seemed'), (914, 'seems'), (915, 'seen'), (916, 'send'), (917, 'sending'), (918, 'sensitive'), (919, 'sent'), (920, 'seriously'), (921, 'set'), (922, 'seven'), (923, 'several'), (924, 'shadow'), (925, 'shaken'), (926, 'shall'), (927, 'she'), (928, 'sheet'), (929, 'shirt-front'), (930, 'shortly'), (931, 'should'), (932, 'shoulder'), (933, 'showed'), (934, 'side'), (935, 'sign'), (936, 'signal'), (937, 'signs'), (938, 'silver'), (939, 'simply'), (940, 'since'), (941, 'sitting'), (942, 'sitting-room'), (943, \"sleeper's\"), (944, 'slightest'), (945, 'slipped'), (946, 'slowly'), (947, 'slumber'), (948, 'small'), (949, 'smile'), (950, 'smiled'), (951, 'smoke'), (952, 'snake'), (953, 'snowed'), (954, 'so'), (955, 'some'), (956, 'someone'), (957, 'something'), (958, 'somewhat'), (959, 'soon'), (960, 'sort'), (961, 'speak'), (962, 'speaking'), (963, 'speaks'), (964, 'spending'), (965, 'spoke'), (966, 'spot'), (967, 'stabbed'), (968, 'stage'), (969, 'stammered'), (970, 'standstill'), (971, 'start'), (972, 'startled'), (973, 'starve'), (974, 'statement'), (975, 'station'), (976, 'stations'), (977, 'still'), (978, 'stolen'), (979, 'stood'), (980, 'stop'), (981, 'stopped'), (982, 'street'), (983, 'stroke'), (984, 'strolls'), (985, 'struck'), (986, 'struggle'), (987, 'struggled'), (988, 'stumbled'), (989, 'stupidity;'), (990, 'subsequently'), (991, 'substantial'), (992, 'suburban'), (993, 'such'), (994, 'suggest'), (995, 'suggesting'), (996, 'suggestion'), (997, 'suggests'), (998, 'suicide'), (999, 'suit'), (1000, 'sullenly'), (1001, 'sum'), (1002, 'superintendent'), (1003, 'supper'), (1004, 'supper-table'), (1005, 'suppose'), (1006, 'suspicion'), (1007, 'sweat'), (1008, 'table'), (1009, 'take'), (1010, 'taken'), (1011, 'tale'), (1012, 'talking'), (1013, 'tangible'), (1014, 'task'), (1015, 'taskmaster'), (1016, 'tea'), (1017, 'tea-time'), (1018, 'tell'), (1019, 'telling'), (1020, 'ten'), (1021, 'tendency'), (1022, 'term'), (1023, 'terminus'), (1024, 'terribly'), (1025, 'terror'), (1026, 'than'), (1027, 'that'), (1028, \"that's\"), (1029, 'the'), (1030, 'them'), (1031, 'them—at'), (1032, 'then'), (1033, 'theory'), (1034, 'there'), (1035, \"there'll\"), (1036, \"there's\"), (1037, 'these'), (1038, 'they'), (1039, 'thick'), (1040, 'thing'), (1041, 'things'), (1042, 'think'), (1043, 'thinking'), (1044, 'this'), (1045, 'those'), (1046, 'though'), (1047, 'thought'), (1048, 'thoughtfully'), (1049, 'thoughts'), (1050, 'three'), (1051, 'throat'), (1052, 'through'), (1053, 'throw'), (1054, 'thrown'), (1055, 'thumb'), (1056, 'ticket'), (1057, 'tickets'), (1058, 'time'), (1059, 'times'), (1060, 'tissue-paper'), (1061, 'to'), (1062, 'to-day'), (1063, 'to-morrow'), (1064, 'to-night'), (1065, 'told'), (1066, 'too'), (1067, 'took'), (1068, 'torn'), (1069, 'tragedy'), (1070, 'train'), (1071, 'trained'), (1072, 'trains'), (1073, 'transpired'), (1074, 'travel'), (1075, 'travelling'), (1076, 'treated'), (1077, 'trifles'), (1078, 'trivial'), (1079, 'trouble'), (1080, 'true'), (1081, 'truly'), (1082, 'truth'), (1083, 'truth—at'), (1084, 'tunnel'), (1085, 'turned'), (1086, 'twice'), (1087, 'two'), (1088, 'type'), (1089, 'unable'), (1090, 'unconsciously'), (1091, 'under'), (1092, 'understand'), (1093, 'understood'), (1094, 'undone'), (1095, 'uneasily'), (1096, 'unfortunate'), (1097, 'unfortunately'), (1098, 'unknown'), (1099, 'unknown;'), (1100, 'unless'), (1101, 'unpleasantness'), (1102, 'unshaven'), (1103, 'unsteady'), (1104, 'unusual'), (1105, 'up'), (1106, 'upon'), (1107, 'used'), (1108, 'useful'), (1109, 'useless'), (1110, 'usual'), (1111, 'uttered'), (1112, 'value'), (1113, 'van'), (1114, 'vein'), (1115, 'verify'), (1116, 'very'), (1117, 'victim'), (1118, 'view'), (1119, 'visitation'), (1120, 'wait'), (1121, 'waited'), (1122, 'waiting'), (1123, 'waiting-rooms'), (1124, 'walk'), (1125, 'walked'), (1126, 'walking'), (1127, 'want'), (1128, 'warrant'), (1129, 'was'), (1130, \"wasn't\"), (1131, 'wasted'), (1132, 'wasting'), (1133, 'watch'), (1134, 'way'), (1135, 'waylay'), (1136, 'we'), (1137, \"we've\"), (1138, 'weaknesses'), (1139, 'weapon'), (1140, 'weather'), (1141, 'week'), (1142, 'well'), (1143, 'well-known'), (1144, 'went'), (1145, 'were'), (1146, 'what'), (1147, 'whatever'), (1148, 'when'), (1149, 'where'), (1150, 'whether'), (1151, 'which'), (1152, 'whilst'), (1153, 'whistle'), (1154, 'white'), (1155, 'who'), (1156, 'whoever'), (1157, 'whole'), (1158, 'whom'), (1159, 'whose'), (1160, 'why'), (1161, 'wife'), (1162, 'will'), (1163, 'window'), (1164, 'windows'), (1165, 'wish'), (1166, 'with'), (1167, 'within'), (1168, 'without'), (1169, 'witness'), (1170, 'woman'), (1171, \"woman's\"), (1172, 'wonder'), (1173, 'woodwork'), (1174, 'word'), (1175, 'words'), (1176, 'work'), (1177, 'worked'), (1178, 'working'), (1179, 'would'), (1180, \"wouldn't\"), (1181, 'writer'), (1182, 'written'), (1183, 'wrong'), (1184, 'wrote'), (1185, 'yard'), (1186, 'year'), (1187, 'years'), (1188, 'yes'), (1189, 'yet'), (1190, 'you'), (1191, \"you're\"), (1192, \"you've\"), (1193, 'your'), (1194, 'yours'), (1195, 'zest'), (1196, '—')])"
      ]
     },
     "execution_count": 138,
     "metadata": {},
     "output_type": "execute_result"
    }
   ],
   "source": [
    "reverse_vocab = {index:token for token,index in vocab.items()}\n",
    "reverse_vocab.items()"
   ]
  },
  {
   "cell_type": "code",
   "execution_count": 139,
   "id": "24134162",
   "metadata": {},
   "outputs": [
    {
     "name": "stdout",
     "output_type": "stream",
     "text": [
      "A moment later , white and shaken , he was racing down the platform in the direction of the guard's van .\n"
     ]
    }
   ],
   "source": [
    "print ( \" \".join([reverse_vocab[id] for id in ids]))"
   ]
  },
  {
   "cell_type": "code",
   "execution_count": null,
   "id": "38ac5005",
   "metadata": {},
   "outputs": [],
   "source": [
    "# class SimpleTokenizer:\n",
    "#     def __init__(self, vocab):\n",
    "#         self.str_to_int = vocab\n",
    "#         self.int_to_string = {index:token for token, index in vocab.items()}\n",
    "#     def encode(self, text):\n",
    "#         tokens = re.split(r'([.?!:()\",]|\\s)', text)\n",
    "#         tokens = [ items for items in tokens if items.split()]\n",
    "#         ids = [ self.str_to_int[token] for token in tokens]\n",
    "#         return ids\n",
    "        \n",
    "#     def decode(self, ids):\n",
    "#         ## text = [self.int_to_string[id] for id in ids]\n",
    "#         text = ( \" \".join([self.int_to_string[id] for id in ids]))\n",
    "#         text = re.sub( r'\\s+([.?!:()\",])', r'\\1', text)\n",
    "#         return text\n",
    "        \n",
    "    "
   ]
  },
  {
   "cell_type": "code",
   "execution_count": null,
   "id": "5eab0f7b",
   "metadata": {},
   "outputs": [],
   "source": [
    "class SimpleTokenizer:\n",
    "    def __init__(self, vocab):\n",
    "        self.str_to_int = vocab\n",
    "        self.int_to_string = {index:token for token, index in vocab.items()}\n",
    "    def encode(self, text):\n",
    "        tokens = re.split(r'([.?!:()\",]|\\s)', text)\n",
    "        tokens = [ item if item in self.str_to_int else \"<|unk|>\" for item in tokens if item.split()]\n",
    "        ids = [ self.str_to_int[token] for token in tokens]\n",
    "        return ids\n",
    "        \n",
    "    def decode(self, ids):\n",
    "        text = ( \" \".join([self.int_to_string[id] for id in ids]))\n",
    "        text = re.sub( r'\\s+([.?!:()\",])', r'\\1', text)\n",
    "        return text"
   ]
  },
  {
   "cell_type": "code",
   "execution_count": 145,
   "id": "b134a532",
   "metadata": {},
   "outputs": [],
   "source": [
    "tokenizer = SimpleTokenizer(vocab)"
   ]
  },
  {
   "cell_type": "code",
   "execution_count": 152,
   "id": "48ef52e2",
   "metadata": {},
   "outputs": [
    {
     "name": "stdout",
     "output_type": "stream",
     "text": [
      "[20, 693, 621, 12, 1154, 170, 925, 12, 515, 1129, 856, 362, 1029, 804, 560, 1029, 346, 747, 1029, 496, 1113, 13]\n"
     ]
    }
   ],
   "source": [
    "phrase = \"A moment later, white and shaken, he was racing down the platform in the direction of the guard's van.\"\n",
    "\n",
    "ids = tokenizer.encode ( phrase )\n",
    "print(ids)\n",
    "\n"
   ]
  },
  {
   "cell_type": "code",
   "execution_count": 153,
   "id": "52f44a9e",
   "metadata": {},
   "outputs": [
    {
     "name": "stdout",
     "output_type": "stream",
     "text": [
      "A moment later, white and shaken, he was racing down the platform in the direction of the guard's van.\n"
     ]
    }
   ],
   "source": [
    "text = tokenizer.decode( ids )\n",
    "print(text)\n",
    "\n"
   ]
  },
  {
   "cell_type": "code",
   "execution_count": 154,
   "id": "2d34d814",
   "metadata": {},
   "outputs": [
    {
     "name": "stdout",
     "output_type": "stream",
     "text": [
      "[18, 693, 621, 12, 1154, 170, 925, 12, 515, 1129, 856, 362, 1029, 804, 560, 1029, 346, 747, 1029, 496, 18, 13]\n"
     ]
    }
   ],
   "source": [
    "phrase = \"A2 moment later, white and shaken, he was racing down the platform in the direction of the guard's van2.\"\n",
    "\n",
    "ids = tokenizer.encode ( phrase )\n",
    "print(ids)"
   ]
  },
  {
   "cell_type": "code",
   "execution_count": 155,
   "id": "539b2a3b",
   "metadata": {},
   "outputs": [
    {
     "name": "stdout",
     "output_type": "stream",
     "text": [
      "<|unk|> moment later, white and shaken, he was racing down the platform in the direction of the guard's <|unk|>.\n"
     ]
    }
   ],
   "source": [
    "text = tokenizer.decode( ids )\n",
    "print(text)"
   ]
  },
  {
   "cell_type": "code",
   "execution_count": 157,
   "id": "47255012",
   "metadata": {},
   "outputs": [],
   "source": [
    "import tiktoken"
   ]
  },
  {
   "cell_type": "code",
   "execution_count": 160,
   "id": "0007b76f",
   "metadata": {},
   "outputs": [],
   "source": [
    "tokenizer = tiktoken.get_encoding(\"gpt2\")"
   ]
  },
  {
   "cell_type": "code",
   "execution_count": 161,
   "id": "d25f46d4",
   "metadata": {},
   "outputs": [
    {
     "name": "stdout",
     "output_type": "stream",
     "text": [
      "[32, 17, 2589, 1568, 29042, 69, 31558, 46090, 1219, 404, 70, 1872, 11, 2330, 290, 27821, 11, 339, 373, 11717, 866, 262, 3859, 287, 262, 4571, 286, 262, 4860, 338, 5719, 17, 13]\n",
      "A2 moment later ahfjahghaohopgai, white and shaken, he was racing down the platform in the direction of the guard's van2.\n"
     ]
    }
   ],
   "source": [
    "phrase = \"A2 moment later ahfjahghaohopgai, white and shaken, he was racing down the platform in the direction of the guard's van2.\"\n",
    "\n",
    "ids = tokenizer.encode ( phrase )\n",
    "print(ids)\n",
    "\n",
    "text = tokenizer.decode( ids )\n",
    "print(text)"
   ]
  }
 ],
 "metadata": {
  "kernelspec": {
   "display_name": "Python 3",
   "language": "python",
   "name": "python3"
  },
  "language_info": {
   "codemirror_mode": {
    "name": "ipython",
    "version": 3
   },
   "file_extension": ".py",
   "mimetype": "text/x-python",
   "name": "python",
   "nbconvert_exporter": "python",
   "pygments_lexer": "ipython3",
   "version": "3.11.3"
  }
 },
 "nbformat": 4,
 "nbformat_minor": 5
}
